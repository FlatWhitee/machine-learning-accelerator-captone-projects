{
 "cells": [
  {
   "cell_type": "markdown",
   "metadata": {},
   "source": [
    "## <code style=\"color:steelblue\">Student Name: Zheyuan Dong</code>"
   ]
  },
  {
   "cell_type": "markdown",
   "metadata": {},
   "source": [
    "#### COMPANION WORKBOOK\n",
    "\n",
    "# Model Evaluation\n",
    "\n",
    "To make the most out of this program, we strongly recommend you to:\n",
    "1. First practice writing and implementing all of the code from Coding Section of the online module.\n",
    "2. Then, freely experiment with and explore any interesting or confusing concepts. Simply insert new code cells and then use the help of Google and official documentation.\n",
    "3. Finally, tackle all of the exercises at the end. They will help you tie everything together and **learn in context.**\n",
    "\n",
    "#### <span style=\"color:#555\">MODULE CODE SANDBOX</span>\n",
    "\n",
    "Use this space to practice writing and implementing all of the code from Coding Section of the online module. Insert new code cells as needed, and feel free to write notes to yourself in Markdown."
   ]
  },
  {
   "cell_type": "markdown",
   "metadata": {},
   "source": [
    "#### Important Note: You're now in the driver's seat!\n",
    "\n",
    "For this project, we're going to leave the standard model training steps to you. But don't worry, we've provided a **guided exercise** for each of the major steps. It's imperative that you finish those exercises, and you can find them below."
   ]
  },
  {
   "cell_type": "markdown",
   "metadata": {},
   "source": [
    "## I. Prep Work\n",
    "\n",
    "#### First, let's import the libraries, helper functions, and classes we'll need.\n",
    "* Again, we'll have you import the right libraries for this module. We've included comments below to guide you.\n",
    "* If you forget one, you can always add it here later and re-run this code block.\n",
    "* When in doubt regarding which Scikit-Learn submodule something belongs to, this <a href=\"http://scikit-learn.org/stable/modules/classes.html\" target=\"_blank\">documentation page</a> is a great resource.\n",
    "* Check the answer key if needed."
   ]
  },
  {
   "cell_type": "code",
   "execution_count": 1,
   "metadata": {},
   "outputs": [],
   "source": [
    "import numpy as np \n",
    "import pandas as pd\n",
    "pd.set_option('display.max_columns', 100)\n",
    "pd.set_option('display.float_format',lambda x: '%.3f' % x)\n",
    "\n",
    "from matplotlib import pyplot as plt\n",
    "%matplotlib inline\n",
    "\n",
    "import seaborn as sns \n",
    "sns.set_style('white')\n",
    "\n",
    "\n"
   ]
  },
  {
   "cell_type": "markdown",
   "metadata": {},
   "source": [
    "#### Next, let's read in the analytical base table you saved at the end of Module 2."
   ]
  },
  {
   "cell_type": "code",
   "execution_count": 2,
   "metadata": {},
   "outputs": [
    {
     "data": {
      "text/plain": [
       "(14068, 26)"
      ]
     },
     "execution_count": 2,
     "metadata": {},
     "output_type": "execute_result"
    }
   ],
   "source": [
    "# Load analytical base table from Module 2\n",
    "abt = pd.read_csv('analytical_base_table.csv')\n",
    "abt.shape"
   ]
  },
  {
   "cell_type": "code",
   "execution_count": 9,
   "metadata": {},
   "outputs": [],
   "source": [
    "# Create the noisy conditional again \n",
    "\n",
    "# Feature\n",
    "x = np.linspace(0, 1, 1000)\n",
    "X = x.reshape(-1, 1)\n",
    "\n",
    "# Noise\n",
    "np.random.seed(555)\n",
    "epsilon= np.random.uniform(-0.02, 0.02, 1000)\n",
    "\n",
    "# Target \n",
    "y = ((x + epsilon) > 0.97).astype(int) "
   ]
  },
  {
   "cell_type": "code",
   "execution_count": 10,
   "metadata": {},
   "outputs": [
    {
     "name": "stdout",
     "output_type": "stream",
     "text": [
      "0.029\n"
     ]
    }
   ],
   "source": [
    "print(y.mean())"
   ]
  },
  {
   "cell_type": "code",
   "execution_count": 12,
   "metadata": {},
   "outputs": [
    {
     "data": {
      "image/png": "[encoded data removed]",
      "text/plain": [
       "<Figure size 432x288 with 1 Axes>"
      ]
     },
     "metadata": {},
     "output_type": "display_data"
    }
   ],
   "source": [
    "plt.scatter(x, y, color='olive', alpha=0.1)\n",
    "plt.show()"
   ]
  },
  {
   "cell_type": "markdown",
   "metadata": {},
   "source": [
    "## II. Accuracy vs. Imbalanced Classes"
   ]
  },
  {
   "cell_type": "code",
   "execution_count": 13,
   "metadata": {},
   "outputs": [
    {
     "data": {
      "image/png": "[encoded data removed]",
      "text/plain": [
       "<Figure size 432x288 with 1 Axes>"
      ]
     },
     "metadata": {},
     "output_type": "display_data"
    }
   ],
   "source": [
    "# Create a brain-dead predictor that always predict 0 \n",
    "pred_dumb = [0] * len(y)\n",
    "\n",
    "plt.scatter(x, y, color='olive', alpha=0.1)\n",
    "plt.plot(x, pred_dumb, 'k--')\n",
    "plt.show()"
   ]
  },
  {
   "cell_type": "code",
   "execution_count": 18,
   "metadata": {},
   "outputs": [
    {
     "data": {
      "text/plain": [
       "LogisticRegression(C=10, random_state=123)"
      ]
     },
     "execution_count": 18,
     "metadata": {},
     "output_type": "execute_result"
    }
   ],
   "source": [
    "# Compared to L2 Logistic Regression, C= 10 \n",
    "from sklearn.linear_model import LogisticRegression \n",
    "\n",
    "clf= LogisticRegression(C= 10, random_state= 123)\n",
    "clf.fit(X, y)"
   ]
  },
  {
   "cell_type": "code",
   "execution_count": 19,
   "metadata": {},
   "outputs": [],
   "source": [
    "# predicted classes\n",
    "pred_class = clf.predict(X)\n",
    "\n",
    "# predicted probabilities \n",
    "pred = clf.predict_proba(X)\n",
    "pred = [p[1] for p in pred]"
   ]
  },
  {
   "cell_type": "code",
   "execution_count": 20,
   "metadata": {},
   "outputs": [
    {
     "data": {
      "image/png": "[encoded data removed]",
      "text/plain": [
       "<Figure size 432x288 with 1 Axes>"
      ]
     },
     "metadata": {},
     "output_type": "display_data"
    }
   ],
   "source": [
    "plt.scatter(x, y, color='olive', alpha=0.1)\n",
    "plt.plot(x, pred, 'k--')\n",
    "plt.show()"
   ]
  },
  {
   "cell_type": "markdown",
   "metadata": {},
   "source": [
    "The Logistic regression looks better as it assigns large confidence (probability) to high x value, but if we calculate accuracy score it has the same performance as the dumb-0 algorithm"
   ]
  },
  {
   "cell_type": "code",
   "execution_count": 21,
   "metadata": {},
   "outputs": [
    {
     "name": "stdout",
     "output_type": "stream",
     "text": [
      "dumb-0:   0.971\n",
      "logistic:   0.971\n"
     ]
    }
   ],
   "source": [
    "from sklearn.metrics import accuracy_score \n",
    "print ('dumb-0:  ', accuracy_score(y, pred_dumb))\n",
    "print ('logistic:  ', accuracy_score(y, pred_class))"
   ]
  },
  {
   "cell_type": "markdown",
   "metadata": {},
   "source": [
    "## III. True Positive Rate vs. False Positive Rate"
   ]
  },
  {
   "cell_type": "code",
   "execution_count": 22,
   "metadata": {},
   "outputs": [],
   "source": [
    "from sklearn.metrics import confusion_matrix "
   ]
  },
  {
   "cell_type": "code",
   "execution_count": 23,
   "metadata": {},
   "outputs": [
    {
     "name": "stdout",
     "output_type": "stream",
     "text": [
      "[[971   0]\n",
      " [ 29   0]]\n"
     ]
    }
   ],
   "source": [
    "print( confusion_matrix(y, pred_class) )"
   ]
  },
  {
   "cell_type": "markdown",
   "metadata": {},
   "source": [
    "917 TRUE negatives, 29 FALSE negatives"
   ]
  },
  {
   "cell_type": "code",
   "execution_count": 24,
   "metadata": {},
   "outputs": [
    {
     "name": "stdout",
     "output_type": "stream",
     "text": [
      "TPR= 0.0\n",
      "FPR= 0.0\n"
     ]
    }
   ],
   "source": [
    "# Check TPR and FPR for the logistic regression model\n",
    "cm = confusion_matrix(y, pred_class)\n",
    "\n",
    "tp= cm[1][1]\n",
    "fp= cm[0][1]\n",
    "tn= cm[0][0]\n",
    "fn= cm[1][0]\n",
    "\n",
    "print('TPR= {}'.format(tp/(tp+fn))) \n",
    "print('FPR= {}'.format(fp/(fp+tn))) "
   ]
  },
  {
   "cell_type": "code",
   "execution_count": 26,
   "metadata": {},
   "outputs": [
    {
     "name": "stdout",
     "output_type": "stream",
     "text": [
      "[0.33 0.34 0.34 0.34 0.35 0.35 0.35 0.36 0.36 0.36]\n",
      "[0 0 0 0 0 0 0 0 0 0]\n"
     ]
    }
   ],
   "source": [
    "# Check if predicted probabilities are under 0.5 even for large x values\n",
    "print(np.round(pred[-10:],2))\n",
    "print(pred_class[-10:])"
   ]
  },
  {
   "cell_type": "code",
   "execution_count": 30,
   "metadata": {},
   "outputs": [
    {
     "data": {
      "text/plain": [
       "array([1, 1, 1, 1, 1, 1, 1, 1, 1, 1])"
      ]
     },
     "execution_count": 30,
     "metadata": {},
     "output_type": "execute_result"
    }
   ],
   "source": [
    "# We can change the cutoff probability threshold to increase performance in this case\n",
    "pred_class_v2= (np.array(pred)> 0.25).astype(int)  # Need to turn the pred from a list to an array \n",
    "pred_class_v2[-10:]"
   ]
  },
  {
   "cell_type": "code",
   "execution_count": 33,
   "metadata": {},
   "outputs": [
    {
     "data": {
      "text/plain": [
       "array([[962,   9],\n",
       "       [  3,  26]], dtype=int64)"
      ]
     },
     "execution_count": 33,
     "metadata": {},
     "output_type": "execute_result"
    }
   ],
   "source": [
    "cm2= confusion_matrix(y, pred_class_v2)\n",
    "cm2"
   ]
  },
  {
   "cell_type": "code",
   "execution_count": 34,
   "metadata": {},
   "outputs": [
    {
     "name": "stdout",
     "output_type": "stream",
     "text": [
      "TPR= 0.896551724137931\n",
      "FPR= 0.009268795056642637\n"
     ]
    }
   ],
   "source": [
    "tp= cm2[1][1]\n",
    "fp= cm2[0][1]\n",
    "tn= cm2[0][0]\n",
    "fn= cm2[1][0]\n",
    "\n",
    "print('TPR= {}'.format(tp/(tp+fn))) \n",
    "print('FPR= {}'.format(fp/(fp+tn))) "
   ]
  },
  {
   "cell_type": "markdown",
   "metadata": {},
   "source": [
    "## IV. Area Under ROC Curve (AUROC)"
   ]
  },
  {
   "cell_type": "code",
   "execution_count": 35,
   "metadata": {},
   "outputs": [],
   "source": [
    "from sklearn.metrics import roc_auc_score, roc_curve "
   ]
  },
  {
   "cell_type": "code",
   "execution_count": 39,
   "metadata": {},
   "outputs": [
    {
     "data": {
      "text/html": [
       "<div>\n",
       "<style scoped>\n",
       "    .dataframe tbody tr th:only-of-type {\n",
       "        vertical-align: middle;\n",
       "    }\n",
       "\n",
       "    .dataframe tbody tr th {\n",
       "        vertical-align: top;\n",
       "    }\n",
       "\n",
       "    .dataframe thead th {\n",
       "        text-align: right;\n",
       "    }\n",
       "</style>\n",
       "<table border=\"1\" class=\"dataframe\">\n",
       "  <thead>\n",
       "    <tr style=\"text-align: right;\">\n",
       "      <th></th>\n",
       "      <th>FPR</th>\n",
       "      <th>TPR</th>\n",
       "      <th>Thresholds</th>\n",
       "    </tr>\n",
       "  </thead>\n",
       "  <tbody>\n",
       "    <tr>\n",
       "      <th>0</th>\n",
       "      <td>0.000</td>\n",
       "      <td>0.000</td>\n",
       "      <td>1.364</td>\n",
       "    </tr>\n",
       "    <tr>\n",
       "      <th>1</th>\n",
       "      <td>0.000</td>\n",
       "      <td>0.034</td>\n",
       "      <td>0.364</td>\n",
       "    </tr>\n",
       "    <tr>\n",
       "      <th>2</th>\n",
       "      <td>0.000</td>\n",
       "      <td>0.586</td>\n",
       "      <td>0.308</td>\n",
       "    </tr>\n",
       "    <tr>\n",
       "      <th>3</th>\n",
       "      <td>0.001</td>\n",
       "      <td>0.586</td>\n",
       "      <td>0.305</td>\n",
       "    </tr>\n",
       "    <tr>\n",
       "      <th>4</th>\n",
       "      <td>0.001</td>\n",
       "      <td>0.724</td>\n",
       "      <td>0.292</td>\n",
       "    </tr>\n",
       "    <tr>\n",
       "      <th>5</th>\n",
       "      <td>0.003</td>\n",
       "      <td>0.724</td>\n",
       "      <td>0.285</td>\n",
       "    </tr>\n",
       "    <tr>\n",
       "      <th>6</th>\n",
       "      <td>0.003</td>\n",
       "      <td>0.759</td>\n",
       "      <td>0.282</td>\n",
       "    </tr>\n",
       "    <tr>\n",
       "      <th>7</th>\n",
       "      <td>0.007</td>\n",
       "      <td>0.759</td>\n",
       "      <td>0.269</td>\n",
       "    </tr>\n",
       "    <tr>\n",
       "      <th>8</th>\n",
       "      <td>0.007</td>\n",
       "      <td>0.793</td>\n",
       "      <td>0.266</td>\n",
       "    </tr>\n",
       "    <tr>\n",
       "      <th>9</th>\n",
       "      <td>0.008</td>\n",
       "      <td>0.793</td>\n",
       "      <td>0.263</td>\n",
       "    </tr>\n",
       "    <tr>\n",
       "      <th>10</th>\n",
       "      <td>0.008</td>\n",
       "      <td>0.897</td>\n",
       "      <td>0.254</td>\n",
       "    </tr>\n",
       "    <tr>\n",
       "      <th>11</th>\n",
       "      <td>0.009</td>\n",
       "      <td>0.897</td>\n",
       "      <td>0.251</td>\n",
       "    </tr>\n",
       "    <tr>\n",
       "      <th>12</th>\n",
       "      <td>0.009</td>\n",
       "      <td>0.931</td>\n",
       "      <td>0.248</td>\n",
       "    </tr>\n",
       "    <tr>\n",
       "      <th>13</th>\n",
       "      <td>0.015</td>\n",
       "      <td>0.931</td>\n",
       "      <td>0.231</td>\n",
       "    </tr>\n",
       "    <tr>\n",
       "      <th>14</th>\n",
       "      <td>0.015</td>\n",
       "      <td>0.966</td>\n",
       "      <td>0.228</td>\n",
       "    </tr>\n",
       "    <tr>\n",
       "      <th>15</th>\n",
       "      <td>0.019</td>\n",
       "      <td>0.966</td>\n",
       "      <td>0.220</td>\n",
       "    </tr>\n",
       "    <tr>\n",
       "      <th>16</th>\n",
       "      <td>0.019</td>\n",
       "      <td>1.000</td>\n",
       "      <td>0.217</td>\n",
       "    </tr>\n",
       "    <tr>\n",
       "      <th>17</th>\n",
       "      <td>1.000</td>\n",
       "      <td>1.000</td>\n",
       "      <td>0.000</td>\n",
       "    </tr>\n",
       "  </tbody>\n",
       "</table>\n",
       "</div>"
      ],
      "text/plain": [
       "     FPR   TPR  Thresholds\n",
       "0  0.000 0.000       1.364\n",
       "1  0.000 0.034       0.364\n",
       "2  0.000 0.586       0.308\n",
       "3  0.001 0.586       0.305\n",
       "4  0.001 0.724       0.292\n",
       "5  0.003 0.724       0.285\n",
       "6  0.003 0.759       0.282\n",
       "7  0.007 0.759       0.269\n",
       "8  0.007 0.793       0.266\n",
       "9  0.008 0.793       0.263\n",
       "10 0.008 0.897       0.254\n",
       "11 0.009 0.897       0.251\n",
       "12 0.009 0.931       0.248\n",
       "13 0.015 0.931       0.231\n",
       "14 0.015 0.966       0.228\n",
       "15 0.019 0.966       0.220\n",
       "16 0.019 1.000       0.217\n",
       "17 1.000 1.000       0.000"
      ]
     },
     "execution_count": 39,
     "metadata": {},
     "output_type": "execute_result"
    }
   ],
   "source": [
    "# ROC curve is plotting FPR against TPR across all thresholds\n",
    "fpr, tpr, thresholds= roc_curve(y, pred)\n",
    "\n",
    "pd.DataFrame({\n",
    "    'FPR': fpr,\n",
    "    'TPR': tpr,\n",
    "    'Thresholds': thresholds\n",
    "})"
   ]
  },
  {
   "cell_type": "code",
   "execution_count": 42,
   "metadata": {},
   "outputs": [
    {
     "data": {
      "image/png": "[encoded data removed]",
      "text/plain": [
       "<Figure size 648x648 with 1 Axes>"
      ]
     },
     "metadata": {},
     "output_type": "display_data"
    }
   ],
   "source": [
    "# Plot the ROC curve\n",
    "\n",
    "fit= plt.figure(figsize=(9,9))\n",
    "plt.title('ROC for Logistic Regression')\n",
    "\n",
    "plt.plot(fpr, tpr, label= 'l1')\n",
    "plt.legend('lower right')\n",
    "\n",
    "plt.plot([0,1], [0,1], 'k--')  # This is from 0 to 1 for both x and y axis\n",
    "\n",
    "plt.xlim([-0.1,1.1])\n",
    "plt.ylim([-0.1,1.1])\n",
    "plt.ylabel('True Positive Rate')\n",
    "plt.xlabel('False Positive Rate')\n",
    "plt.show()"
   ]
  },
  {
   "cell_type": "code",
   "execution_count": 45,
   "metadata": {},
   "outputs": [
    {
     "data": {
      "text/plain": [
       "0.9971589900209524"
      ]
     },
     "execution_count": 45,
     "metadata": {},
     "output_type": "execute_result"
    }
   ],
   "source": [
    "# Calculate the AUROC, note that we use the predicted probability instead of predicted class here\n",
    "\n",
    "roc_auc_score(y, pred)"
   ]
  },
  {
   "cell_type": "markdown",
   "metadata": {},
   "source": [
    "The AUROC will be 0.5 for the dumb classifier. Because for any given observation it assigns the same class regardless. Mathemetically, the FPR always equal to TPR, as they are always 0\n",
    "<br>Note that this has nothing to do with the balence of class itself"
   ]
  },
  {
   "cell_type": "code",
   "execution_count": 46,
   "metadata": {},
   "outputs": [
    {
     "data": {
      "text/plain": [
       "0.5"
      ]
     },
     "execution_count": 46,
     "metadata": {},
     "output_type": "execute_result"
    }
   ],
   "source": [
    "roc_auc_score(y, pred_dumb)"
   ]
  },
  {
   "cell_type": "markdown",
   "metadata": {},
   "source": [
    "#### <span style=\"color:#555\">EXERCISES</span>\n",
    "\n",
    "Complete each of the following exercises."
   ]
  },
  {
   "cell_type": "markdown",
   "metadata": {},
   "source": [
    "## <span style=\"color:RoyalBlue\">Exercise 4.1 - Split Your Dataset</span>\n",
    "\n",
    "Let's start by splitting our data into separate training and test sets. Remember, your data is a **limited resource**.\n",
    "* You can spend some of it to train your model.\n",
    "* You can spend some of it to test, or evaluate your model.\n",
    "* But you can't use the same data for both!\n",
    "\n",
    "Having a true \"unseen\" test dataset helps you detect overfit models and ultimately select the best model.\n",
    "\n",
    "#### A.) First, separate the dataframe into separate objects for the target variable, <code style=\"color:steelblue\">y</code>, and the input features, <code style=\"color:steelblue\">X</code>."
   ]
  },
  {
   "cell_type": "code",
   "execution_count": 53,
   "metadata": {},
   "outputs": [],
   "source": [
    "# Split sample \n",
    "from sklearn.model_selection import train_test_split\n",
    "\n",
    "# Pipeline and cross validation\n",
    "from sklearn.pipeline import make_pipeline\n",
    "from sklearn.preprocessing import StandardScaler\n",
    "from sklearn.model_selection import GridSearchCV\n",
    "\n",
    "# Algorithms \n",
    "from sklearn.linear_model import LogisticRegression\n",
    "from sklearn.ensemble import RandomForestClassifier\n",
    "from sklearn.ensemble import GradientBoostingClassifier\n",
    "\n",
    "# Metrics\n",
    "from sklearn.metrics import roc_curve, roc_auc_score "
   ]
  },
  {
   "cell_type": "code",
   "execution_count": 51,
   "metadata": {},
   "outputs": [],
   "source": [
    "X= abt.drop('status', axis= 1)\n",
    "y= abt.status"
   ]
  },
  {
   "cell_type": "markdown",
   "metadata": {},
   "source": [
    "Now you can pass <code style=\"color:steelblue\">X</code> and <code style=\"color:steelblue\">y</code> to the <code style=\"color:steelblue\">train_test_split()</code> function. If you forgot to import this function, you can go back and import it. When in doubt, this <a href=\"http://scikit-learn.org/stable/modules/classes.html\" target=\"_blank\">documentation page</a> is a great resource. Simply search (Windows Control + F or Mac Command + F) for the function you want. The prefix before the function name is where it's located. For example:\n",
    "\n",
    "<pre style=\"color:steelblue\">\n",
    "    from sklearn<strong>.model_selection</strong> import <strong>train_test_split</strong>\n",
    "</pre>\n",
    "\n",
    "#### B.) After you've imported the function, split <code style=\"color:steelblue\">X</code> and <code style=\"color:steelblue\">y</code> into training and test sets.\n",
    "* Pass in the argument <code style=\"color:steelblue\">test_size=<span style=\"color:crimson\">0.2</span></code> to set aside 20% of our observations for the test set.\n",
    "* Pass in <code style=\"color:steelblue\">random_state=<span style=\"color:crimson\">1234</span></code> to set the random state for replicable results.\n",
    "* **Important:** Also pass in the argument <code style=\"color:steelblue\">stratify=<span style=\"color:crimson\">abt.status</span></code> in order to make sure the target variable's classes are balanced in each subset of data! This is **stratified random sampling**.\n",
    "* Then, print the number of observations in each subset to check that it was done correctly."
   ]
  },
  {
   "cell_type": "code",
   "execution_count": 52,
   "metadata": {},
   "outputs": [
    {
     "name": "stdout",
     "output_type": "stream",
     "text": [
      "11254 2814 11254 2814\n"
     ]
    }
   ],
   "source": [
    "X_train, X_test, y_train, y_test = train_test_split(X, y, test_size= 0.2, random_state= 1234, stratify= abt.status)\n",
    "\n",
    "print(X_train.shape[0], X_test.shape[0], y_train.shape[0], y_test.shape[0])"
   ]
  },
  {
   "cell_type": "markdown",
   "metadata": {},
   "source": [
    "<strong style=\"color:RoyalBlue\">Expected output:</strong>\n",
    "<pre>\n",
    "11254 2814 11254 2814\n",
    "</pre>"
   ]
  },
  {
   "cell_type": "markdown",
   "metadata": {},
   "source": [
    "## <span style=\"color:RoyalBlue\">Exercise 4.2 - Build Model Pipelines</span>\n",
    "\n",
    "Next, let's set up preprocessing pipelines for each of our algorithms. Remember, it's almost always useful to **standardize** our features, or bring them to the same scale.\n",
    "\n",
    "#### A.) First, make sure you've imported 2 important tools for this step.\n",
    "* <code style=\"color:steelblue\">make_pipeline()</code> for building the pipeline.\n",
    "* <code style=\"color:steelblue\">StandardScaler()</code> for standardization.\n",
    "* Again, this <a href=\"http://scikit-learn.org/stable/modules/classes.html\" target=\"_blank\">documentation page</a> is a great resource.\n",
    "\n",
    "#### B.) Next, create a single <span style=\"color:royalblue\">pipeline dictionary</span> with pipelines for each algorithm.\n",
    "* Use the keys:\n",
    "    * <code style=\"color:crimson\">'l1'</code> for $L_1$-regularized logistic regression\n",
    "    * <code style=\"color:crimson\">'l2'</code> for $L_2$-regularized logistic regression\n",
    "    * <code style=\"color:crimson\">'rf'</code> for random forest\n",
    "    * <code style=\"color:crimson\">'gb'</code> for gradient boosted tree.\n",
    "* Each pipeline should standardize the data first.\n",
    "* Remember to set <code style=\"color:steelblue\">random_state=<span style=\"color:crimson\">123</span></code> for each algorithm to ensure replicable results."
   ]
  },
  {
   "cell_type": "code",
   "execution_count": 63,
   "metadata": {},
   "outputs": [
    {
     "data": {
      "text/plain": [
       "{'l1': Pipeline(steps=[('standardscaler', StandardScaler()),\n",
       "                 ('logisticregression',\n",
       "                  LogisticRegression(penalty='l1', random_state=123,\n",
       "                                     solver='liblinear'))]),\n",
       " 'l2': Pipeline(steps=[('standardscaler', StandardScaler()),\n",
       "                 ('logisticregression', LogisticRegression(random_state=123))]),\n",
       " 'rf': Pipeline(steps=[('standardscaler', StandardScaler()),\n",
       "                 ('randomforestclassifier',\n",
       "                  RandomForestClassifier(random_state=123))]),\n",
       " 'gb': Pipeline(steps=[('standardscaler', StandardScaler()),\n",
       "                 ('gradientboostingclassifier',\n",
       "                  GradientBoostingClassifier(random_state=123))])}"
      ]
     },
     "execution_count": 63,
     "metadata": {},
     "output_type": "execute_result"
    }
   ],
   "source": [
    "pipelines= {}\n",
    "\n",
    "pipelines['l1'] = make_pipeline(StandardScaler(), LogisticRegression(penalty= 'l1', solver= 'liblinear', random_state= 123)) \n",
    "pipelines['l2'] = make_pipeline(StandardScaler(), LogisticRegression(random_state= 123))\n",
    "pipelines['rf'] = make_pipeline(StandardScaler(), RandomForestClassifier(random_state= 123))\n",
    "pipelines['gb'] = make_pipeline(StandardScaler(), GradientBoostingClassifier(random_state= 123))\n",
    "\n",
    "pipelines"
   ]
  },
  {
   "cell_type": "markdown",
   "metadata": {},
   "source": [
    "Now that we have our pipelines, we're ready to move on to declaring hyperparameters to tune."
   ]
  },
  {
   "cell_type": "markdown",
   "metadata": {},
   "source": [
    "## <span style=\"color:RoyalBlue\">Exercise 4.3 - Declare Hyperparameter Grids</span>\n",
    "\n",
    "Remember, there are two types of parameters we need to worry about when using machine learning algorithms. \n",
    "* Model parameters\n",
    "* Hyperparamters\n",
    "\n",
    "The key distinction is that model parameters can be learned directly from the training data while hyperparameters cannot (so they must be **tuned**)!\n",
    "\n",
    "#### A.) First, list the tunable hyperparameters of your $L_1$-regularized logistic regression pipeline."
   ]
  },
  {
   "cell_type": "markdown",
   "metadata": {},
   "source": [
    "<strong style=\"color:RoyalBlue\">Expected output:</strong>\n",
    "<pre>\n",
    "{'memory': None,\n",
    " 'steps': [('standardscaler',\n",
    "   StandardScaler(copy=True, with_mean=True, with_std=True)),\n",
    "  ('logisticregression',\n",
    "   LogisticRegression(C=1.0, class_weight=None, dual=False, fit_intercept=True,\n",
    "             intercept_scaling=1, max_iter=100, multi_class='ovr', n_jobs=1,\n",
    "             penalty='l1', random_state=123, solver='liblinear', tol=0.0001,\n",
    "             verbose=0, warm_start=False))],\n",
    " 'standardscaler': StandardScaler(copy=True, with_mean=True, with_std=True),\n",
    " 'logisticregression': LogisticRegression(C=1.0, class_weight=None, dual=False, fit_intercept=True,\n",
    "           intercept_scaling=1, max_iter=100, multi_class='ovr', n_jobs=1,\n",
    "           penalty='l1', random_state=123, solver='liblinear', tol=0.0001,\n",
    "           verbose=0, warm_start=False),\n",
    " 'standardscaler__copy': True,\n",
    " 'standardscaler__with_mean': True,\n",
    " 'standardscaler__with_std': True,\n",
    " 'logisticregression__C': 1.0,\n",
    " 'logisticregression__class_weight': None,\n",
    " 'logisticregression__dual': False,\n",
    " 'logisticregression__fit_intercept': True,\n",
    " 'logisticregression__intercept_scaling': 1,\n",
    " 'logisticregression__max_iter': 100,\n",
    " 'logisticregression__multi_class': 'ovr',\n",
    " 'logisticregression__n_jobs': 1,\n",
    " 'logisticregression__penalty': 'l1',\n",
    " 'logisticregression__random_state': 123,\n",
    " 'logisticregression__solver': 'liblinear',\n",
    " 'logisticregression__tol': 0.0001,\n",
    " 'logisticregression__verbose': 0,\n",
    " 'logisticregression__warm_start': False}\n",
    "</pre>"
   ]
  },
  {
   "cell_type": "markdown",
   "metadata": {},
   "source": [
    "All of the keys that begin with <code style=\"color:crimson\">'logisticregression__'</code> are hyperparameters. Fortunately, you don't need to tune all of them. For **regularized logistic regression**, the most impactful hyperparameter is the **strength of the penalty**. \n",
    "\n",
    "Remember, for Lasso, Ridge, and Elastic-Net, this was <code style=\"color:steelblue;\">alpha</code>. But for Logistic regrssion, it's actually <code style=\"color:steelblue; font-weight:bold\">C</code>.\n",
    "* <code style=\"color:steelblue;\">C</code> is the **inverse** of regularization strength!\n",
    "* That means higher values of <code style=\"color:steelblue;\">C</code> mean weaker penalties.\n",
    "* <code style=\"color:steelblue\">C</code> is a positive value, typically between 0 and 1000.\n",
    "* The default is 1.0.\n",
    "* We recommend trying values between 0.001 and 1000 to start with.\n",
    "\n",
    "#### B.) Declare the hyperparameter grids for     <code style=\"color:crimson\">l1</code> ($L_1$-regularized logistic regression) and <code style=\"color:crimson\">l2</code> ($L_2$-regularized logistic regression).\n",
    "* Try the following values for <code>C</code>: <code>[0.001, 0.005, 0.01, 0.05, 0.1, 0.5, 1, 5, 10, 50, 100, 500, 1000]</code>\n",
    "* Remember to include the correct **prefix**!"
   ]
  },
  {
   "cell_type": "code",
   "execution_count": 65,
   "metadata": {},
   "outputs": [],
   "source": [
    "hypers= {}\n",
    "\n",
    "hypers['l1'] = {'logisticregression__C': [0.001, 0.005, 0.01, 0.05, 0.1, 0.5, 1, 5, 10, 50, 100, 500, 1000]}\n",
    "hypers['l2'] = {'logisticregression__C': [0.001, 0.005, 0.01, 0.05, 0.1, 0.5, 1, 5, 10, 50, 100, 500, 1000]}"
   ]
  },
  {
   "cell_type": "markdown",
   "metadata": {},
   "source": [
    "#### C.) Next, declare the hyperparameter grid for your  random forest.\n",
    "* For **random forests**, the first hyperparameter to tune is <code style=\"color:steelblue; font-weight:bold\">n_estimators</code>. Let's try <code style=\"color:crimson\">100</code> and <code style=\"color:crimson\">200</code>.\n",
    "\n",
    "* The second one we'll tune is <code style=\"color:steelblue; font-weight:bold\">max_features</code>. We'll try <code style=\"color:crimson\">'auto'</code>, <code style=\"color:crimson\">'sqrt'</code>, and <code style=\"color:crimson\">0.33</code>.\n",
    "\n",
    "* The third one we'll tune is <code style=\"color:steelblue; font-weight:bold\">min_samples_leaf</code>. Let's try <code>[1, 3, 5, 10]</code>.\n",
    "\n",
    "* Remember to include the correct **prefix**!"
   ]
  },
  {
   "cell_type": "code",
   "execution_count": 69,
   "metadata": {},
   "outputs": [],
   "source": [
    "hypers['rf'] = {\n",
    "    'randomforestclassifier__n_estimators': [100, 200], \n",
    "    'randomforestclassifier__max_features': ['auto', 'sqrt', 0.33], \n",
    "    'randomforestclassifier__min_samples_leaf': [1, 3, 5, 10]\n",
    "}"
   ]
  },
  {
   "cell_type": "markdown",
   "metadata": {},
   "source": [
    "#### D.) Next, declare the hyperparameter grid for the boosted tree.\n",
    "* For **boosted trees**, we'll tune <code style=\"color:steelblue; font-weight:bold\">n_estimators</code> as well. We'll try <code style=\"color:crimson\">100</code> and <code style=\"color:crimson\">200</code>.\n",
    "\n",
    "* The second one we'll tune is <code style=\"color:steelblue; font-weight:bold\">learning_rate</code>. We'll try <code style=\"color:crimson\">0.05</code>, <code style=\"color:crimson\">0.1</code>, and <code style=\"color:crimson\">0.2</code>.\n",
    "\n",
    "* Finally, we'll tune <code style=\"color:steelblue; font-weight:bold\">max_depth</code>. We'll try <code style=\"color:crimson\">1</code>, <code style=\"color:crimson\">3</code>, and <code style=\"color:crimson\">5</code>."
   ]
  },
  {
   "cell_type": "code",
   "execution_count": 67,
   "metadata": {},
   "outputs": [],
   "source": [
    "hypers['gb'] = {\n",
    "    'gradientboostingclassifier__n_estimators': [100, 200], \n",
    "    'gradientboostingclassifier__learning_rate': [0.05, 0.1, 0.2], \n",
    "    'gradientboostingclassifier__max_depth': [1, 3, 5]\n",
    "}"
   ]
  },
  {
   "cell_type": "markdown",
   "metadata": {},
   "source": [
    "## <span style=\"color:RoyalBlue\">Exercise 4.4 - Fit and Tune Models with Cross-Validation</span>\n",
    "\n",
    "Now that we have our <code style=\"color:steelblue\">pipelines</code> and <code style=\"color:steelblue\">hyperparameters</code> dictionaries declared, we're ready to tune our models with **cross-validation**.\n",
    "\n",
    "#### A.) First, make sure you've imported the helper for cross-validation, <code style=\"color:steelblue\">GridSearchCV</code>.\n",
    "* Again, this <a href=\"http://scikit-learn.org/stable/modules/classes.html\" target=\"_blank\">documentation page</a> is a great resource.\n",
    "\n",
    "#### B.) Next, create a <code style=\"color:SteelBlue\">fitted_models</code> dictionary that includes models that have been tuned using cross-validation.\n",
    "* The keys should be the same as those in the <code style=\"color:SteelBlue\">pipelines</code> and <code style=\"color:SteelBlue\">hyperparameters</code> dictionaries. \n",
    "* The values should be <code style=\"color:steelblue\">GridSearchCV</code> objects that have been fitted to <code style=\"color:steelblue\">X_train</code> and <code style=\"color:steelblue\">y_train</code>.\n",
    "* After fitting each model, print <code style=\"color:crimson\">'{name} has been fitted.'</code> just to track the progress.\n",
    "* (Optionally) You can set <code style=\"color:steelblue\">n_jobs=<span style=\"color:crimson\">-1</span></code> to use as many cores as available on your computer.\n",
    "\n",
    "This step can take a few minutes, so please be patient. After kicking off your model training loop, feel free to get up, walk around, grab a beverage, etc."
   ]
  },
  {
   "cell_type": "code",
   "execution_count": 70,
   "metadata": {},
   "outputs": [
    {
     "name": "stdout",
     "output_type": "stream",
     "text": [
      "l1 is fitted\n",
      "l2 is fitted\n",
      "rf is fitted\n",
      "gb is fitted\n"
     ]
    }
   ],
   "source": [
    "fitted_models = {}\n",
    "\n",
    "for name, pipeline in pipelines.items():\n",
    "    model = GridSearchCV(pipeline, hypers[name], n_jobs= 1)\n",
    "    model.fit(X_train, y_train)\n",
    "    fitted_models[name] = model\n",
    "    print (name, 'is fitted')    "
   ]
  },
  {
   "cell_type": "markdown",
   "metadata": {},
   "source": [
    "## <span style=\"color:RoyalBlue\">Exercise 4.5 - AUROC Review</span>\n",
    "\n",
    "Finally, it's time to evaluate our models and pick the best one. Just as in the previous project, we'll first evaluate the models by looking at their **cross-validated performance** on the training set.\n",
    "\n",
    "#### A.) First, display the <code style=\"color:steelblue\">best\\_score_</code> attribute for each fitted model.\n",
    "* If you get different numbers, check to see that you've set the <code style=\"color:steelblue\">random_state=</code> correctly for each of the models.\n"
   ]
  },
  {
   "cell_type": "code",
   "execution_count": 71,
   "metadata": {},
   "outputs": [
    {
     "name": "stdout",
     "output_type": "stream",
     "text": [
      "l1 0.8477877091662964\n",
      "l2 0.8477877091662964\n",
      "rf 0.9786744459252679\n",
      "gb 0.9750311861394934\n"
     ]
    }
   ],
   "source": [
    "for name, model in fitted_models.items():\n",
    "    print(name, model.best_score_)"
   ]
  },
  {
   "cell_type": "markdown",
   "metadata": {},
   "source": [
    "Those scores are **holdout accuracy** scores. For classification problems, the default scoring metric is accuracy.\n",
    "* Accuracy is simply the percent of observations correctly classified by the model.\n",
    "* Because it's the average accuracy from the **holdout folds**, higher is almost always better.\n",
    "\n",
    "However, as you'll remember from the Coding Section, straight accuracy is not always the best way to evaluate a classification model. "
   ]
  },
  {
   "cell_type": "markdown",
   "metadata": {},
   "source": [
    "#### B.) Get the predicted classes from your $L_1$-regularized logistic regression and display the first 10. \n",
    "* Remember to use <code style=\"color:steelblue\">.predict()</code> instead of <code style=\"color:steelblue\">.predict_proba()</code> to get the predicted classes directly."
   ]
  },
  {
   "cell_type": "code",
   "execution_count": 77,
   "metadata": {},
   "outputs": [
    {
     "data": {
      "text/plain": [
       "array([0, 0, 0, 0, 0, 0, 0, 1, 1, 0], dtype=int64)"
      ]
     },
     "execution_count": 77,
     "metadata": {},
     "output_type": "execute_result"
    }
   ],
   "source": [
    "model = fitted_models['l1']\n",
    "model.predict(X_test)[:10]"
   ]
  },
  {
   "cell_type": "markdown",
   "metadata": {},
   "source": [
    "#### C.) Next, display the confusion matrix for the set of predictions from part (B). Answer the following questions.\n",
    "* How many observations were correctly classified?\n",
    "* How many true positives were there?\n",
    "* How many true negatives were there?\n",
    "* How many false positives were there?\n",
    "* How many false negatives were there?"
   ]
  },
  {
   "cell_type": "code",
   "execution_count": 78,
   "metadata": {
    "scrolled": true
   },
   "outputs": [
    {
     "data": {
      "text/plain": [
       "array([[1969,  172],\n",
       "       [ 220,  453]], dtype=int64)"
      ]
     },
     "execution_count": 78,
     "metadata": {},
     "output_type": "execute_result"
    }
   ],
   "source": [
    "yhats= model.predict(X_test)\n",
    "confusion_matrix(y_test, yhats)"
   ]
  },
  {
   "cell_type": "markdown",
   "metadata": {},
   "source": [
    "#### D.) Next, get the predicted positive class probabilities from your $L_1$-regularized logistic regression and display the first 10.\n",
    "* Note, for clarity, we rounded to 2 decimals."
   ]
  },
  {
   "cell_type": "code",
   "execution_count": 80,
   "metadata": {
    "scrolled": true
   },
   "outputs": [
    {
     "data": {
      "text/plain": [
       "[0.03, 0.0, 0.01, 0.09, 0.07, 0.48, 0.13, 0.62, 0.73, 0.14]"
      ]
     },
     "execution_count": 80,
     "metadata": {},
     "output_type": "execute_result"
    }
   ],
   "source": [
    "yhats_prob = model.predict_proba(X_test)\n",
    "yhats_prob = [np.round(p[1],2) for p in yhats_prob]\n",
    "yhats_prob[:10]"
   ]
  },
  {
   "cell_type": "markdown",
   "metadata": {},
   "source": [
    "#### E.) Next, calculate the ROC curve for your $L_1$-regularized logistic regression using the <code style=\"color:steelblue\">roc_curve()</code> function that we imported earlier."
   ]
  },
  {
   "cell_type": "code",
   "execution_count": 81,
   "metadata": {},
   "outputs": [],
   "source": [
    "roc_l1 = roc_curve(y_test, yhats)"
   ]
  },
  {
   "cell_type": "markdown",
   "metadata": {},
   "source": [
    "#### F.) Plot the entire ROC curve for your $L_1$-regularized logistic regression."
   ]
  },
  {
   "cell_type": "code",
   "execution_count": 89,
   "metadata": {},
   "outputs": [
    {
     "data": {
      "text/plain": [
       "Text(0, 0.5, 'TPR')"
      ]
     },
     "execution_count": 89,
     "metadata": {},
     "output_type": "execute_result"
    },
    {
     "data": {
      "image/png": "[encoded data removed]",
      "text/plain": [
       "<Figure size 648x648 with 1 Axes>"
      ]
     },
     "metadata": {},
     "output_type": "display_data"
    }
   ],
   "source": [
    "fpr, tpr, cutoffs = roc_curve(y_test, yhats_prob)  # Note that we need to use probability instead of actual predicted class\n",
    "\n",
    "plt.figure(figsize=(9,9))\n",
    "\n",
    "plt.plot(fpr, tpr, color= 'olive')\n",
    "plt.plot([0,1], [0,1], 'k--')\n",
    "\n",
    "plt.title('Receiver Operating Characteristic')\n",
    "plt.xlabel('FPR')\n",
    "plt.ylabel('TPR')"
   ]
  },
  {
   "cell_type": "markdown",
   "metadata": {},
   "source": [
    "#### G.) Finally, answer this question: What is the probability that a randomly chosen <code style=\"color:crimson\">'Left'</code> observation ranks higher (has a higher predicted probability) than a randomly chosen <code style=\"color:crimson\">'Employed'</code> observation?"
   ]
  },
  {
   "cell_type": "code",
   "execution_count": 92,
   "metadata": {},
   "outputs": [
    {
     "data": {
      "text/plain": [
       "0.9013774791049717"
      ]
     },
     "execution_count": 92,
     "metadata": {},
     "output_type": "execute_result"
    }
   ],
   "source": [
    "roc_auc_score(y_test, yhats_prob)"
   ]
  },
  {
   "cell_type": "markdown",
   "metadata": {},
   "source": [
    "<strong style=\"color:RoyalBlue\">Expected output:</strong>\n",
    "<pre>\n",
    "0.9015388373737675\n",
    "</pre>"
   ]
  },
  {
   "cell_type": "markdown",
   "metadata": {},
   "source": [
    "## <span style=\"color:RoyalBlue\">Exercise 4.6 - Pick the Winner</span>\n",
    "\n",
    "Now that we've taken a detour to dive into some of the intuition behind AUROC, let's calculate it for each of our fitted models on the test set.\n",
    "\n",
    "#### A.) Using a <code style=\"color:SteelBlue\">for</code> loop, print the AUROC performance of each model in <code style=\"color:SteelBlue\">fitted_models</code> on the test set.\n",
    "* Label the output with the name of the algorithm. For example:\n",
    "\n",
    "<pre style=\"color:crimson\">\n",
    "rf 0.9915201892159932\n",
    "</pre>\n",
    "\n",
    "* Which model had the highest test AUROC?\n",
    "* Did it also have the highest cross-validated score?"
   ]
  },
  {
   "cell_type": "code",
   "execution_count": 95,
   "metadata": {},
   "outputs": [
    {
     "name": "stdout",
     "output_type": "stream",
     "text": [
      "l1 0.9015430014581236\n",
      "l2 0.9015381433597084\n",
      "rf 0.9921097541593997\n",
      "gb 0.988616434391728\n"
     ]
    }
   ],
   "source": [
    "for name, model in fitted_models.items():\n",
    "    yhat_probs = model.predict_proba(X_test)\n",
    "    yhat_probs=[p[1] for p in yhat_probs]\n",
    "    print(name, roc_auc_score(y_test, yhat_probs))"
   ]
  },
  {
   "cell_type": "markdown",
   "metadata": {},
   "source": [
    "<strong style=\"color:RoyalBlue\">Expected output:</strong>\n",
    "<pre>\n",
    "l1 0.9015388373737675\n",
    "l2 0.9015367553315894\n",
    "rf 0.9915201892159932\n",
    "gb 0.9886802836851869\n",
    "</pre>"
   ]
  },
  {
   "cell_type": "markdown",
   "metadata": {},
   "source": [
    "Let's save the winning model. Make sure you've already imported the <code style=\"color:steelblue\">pickle</code> package.\n",
    "\n",
    "#### B.) Finally, save the winning <code style=\"color:steelblue\">Pipeline</code> object into a pickle file.\n",
    "* Just save the <code style=\"color:steelblue\">Pipeline</code>, not the <code style=\"color:steelblue\">GridSearchCV</code> object.\n",
    "* **Hint:** Remember the <code style=\"color:steelblue\">.best\\_estimator_</code> attribute?"
   ]
  },
  {
   "cell_type": "code",
   "execution_count": null,
   "metadata": {},
   "outputs": [],
   "source": [
    "import pickle\n",
    "\n",
    "with open('final_model.pkl', 'wb') as f:\n",
    "    pickle.dump(fitted_models['rf'].best_estimator_, f)"
   ]
  },
  {
   "cell_type": "markdown",
   "metadata": {},
   "source": [
    "Congratulations for making through this model training and evaluation module! As a reminder, here are a few things you did in this module:\n",
    "* You split your dataset into training and test sets.\n",
    "* You set up model pipelines and hyperparameter grids.\n",
    "* You tuned your models using cross-validation.\n",
    "* You learned about how AUROC is a more effective metric for classification than simple accuracy.\n",
    "* And finally, you saved the winning model.\n",
    "\n",
    "In the next module, we'll see how you can go the extra mile in terms of project delivery. That includes preparing to apply your model to raw data and packaging it up into an executable script."
   ]
  }
 ],
 "metadata": {
  "anaconda-cloud": {},
  "kernelspec": {
   "display_name": "Python 3",
   "language": "python",
   "name": "python3"
  },
  "language_info": {
   "codemirror_mode": {
    "name": "ipython",
    "version": 3
   },
   "file_extension": ".py",
   "mimetype": "text/x-python",
   "name": "python",
   "nbconvert_exporter": "python",
   "pygments_lexer": "ipython3",
   "version": "3.9.10"
  }
 },
 "nbformat": 4,
 "nbformat_minor": 1
}
