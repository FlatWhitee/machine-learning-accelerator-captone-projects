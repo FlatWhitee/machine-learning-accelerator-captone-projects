{
 "cells": [
  {
   "cell_type": "markdown",
   "metadata": {},
   "source": [
    "## <code style=\"color:steelblue\">Student Name: Zheyuan Dong</code>\n",
    "\n",
    "<br> The purpose of this project is to train an algorithm that predicts potential hydrocodone opioid users \n",
    "<br> **Data:** National Study of Drug Use and Health (NSDUH)\n",
    "<br> **Task:** classification\n",
    "<br> **Winning condition:** recall rate > 70%  (ultimately this algorithm will be used on another dataset to for sample restriction purpose, so I want more punishment on under-predicting rather than over-predicting)"
   ]
  },
  {
   "cell_type": "code",
   "execution_count": 1,
   "metadata": {},
   "outputs": [],
   "source": [
    "import numpy as np \n",
    "import pandas as pd\n",
    "pd.set_option('display.max_columns', 100)\n",
    "pd.set_option('display.float_format',lambda x: '%.3f' % x)\n",
    "\n",
    "from matplotlib import pyplot as plt\n",
    "%matplotlib inline\n",
    "\n",
    "import seaborn as sns \n",
    "sns.set_style('darkgrid')"
   ]
  },
  {
   "cell_type": "code",
   "execution_count": 2,
   "metadata": {},
   "outputs": [],
   "source": [
    "raw = r'C:\\Users\\Damie\\Dropbox\\Hydrocodone upscheduling project\\raw data'\n",
    "cleaned = r'C:\\Users\\Damie\\Dropbox\\Hydrocodone upscheduling project\\Clean Datasets'"
   ]
  },
  {
   "cell_type": "markdown",
   "metadata": {},
   "source": [
    "# I. Exploring raw survey data"
   ]
  },
  {
   "cell_type": "code",
   "execution_count": 3,
   "metadata": {},
   "outputs": [],
   "source": [
    "nsduh= pd.read_stata(raw + '/NSDUH_2002_2019.dta')"
   ]
  },
  {
   "cell_type": "code",
   "execution_count": 4,
   "metadata": {},
   "outputs": [
    {
     "data": {
      "text/html": [
       "<div>\n",
       "<style scoped>\n",
       "    .dataframe tbody tr th:only-of-type {\n",
       "        vertical-align: middle;\n",
       "    }\n",
       "\n",
       "    .dataframe tbody tr th {\n",
       "        vertical-align: top;\n",
       "    }\n",
       "\n",
       "    .dataframe thead th {\n",
       "        text-align: right;\n",
       "    }\n",
       "</style>\n",
       "<table border=\"1\" class=\"dataframe\">\n",
       "  <thead>\n",
       "    <tr style=\"text-align: right;\">\n",
       "      <th></th>\n",
       "      <th>year</th>\n",
       "      <th>irsex</th>\n",
       "      <th>catage</th>\n",
       "      <th>irmarit</th>\n",
       "      <th>iimarit</th>\n",
       "      <th>medicare</th>\n",
       "      <th>prvhltin</th>\n",
       "      <th>caidchip</th>\n",
       "      <th>imother</th>\n",
       "      <th>ifather</th>\n",
       "      <th>wrkslfem</th>\n",
       "      <th>irpsoc</th>\n",
       "      <th>iipsoc</th>\n",
       "      <th>irpssi</th>\n",
       "      <th>iipssi</th>\n",
       "      <th>irppmt</th>\n",
       "      <th>iippmt</th>\n",
       "      <th>irpwag</th>\n",
       "      <th>iipwag</th>\n",
       "      <th>hydrocd2</th>\n",
       "      <th>ireduc2</th>\n",
       "      <th>irpinc3</th>\n",
       "      <th>irfamin3</th>\n",
       "      <th>iipinc3</th>\n",
       "      <th>iifamin3</th>\n",
       "      <th>hydcodop</th>\n",
       "      <th>anyhlti2</th>\n",
       "      <th>poverty2</th>\n",
       "      <th>hydcpdapyu</th>\n",
       "      <th>wrkidst2</th>\n",
       "    </tr>\n",
       "  </thead>\n",
       "  <tbody>\n",
       "    <tr>\n",
       "      <th>0</th>\n",
       "      <td>2002</td>\n",
       "      <td>1 - Male</td>\n",
       "      <td>3 - 26-34 Years Old</td>\n",
       "      <td>1 - Married</td>\n",
       "      <td>1 - Marital status from questionnaire</td>\n",
       "      <td>2 - No</td>\n",
       "      <td>1 - Yes</td>\n",
       "      <td>2 - No</td>\n",
       "      <td>4 - R is 18 or older</td>\n",
       "      <td>4 - R is 18 or older</td>\n",
       "      <td>2 - No</td>\n",
       "      <td>2 - No</td>\n",
       "      <td>1 - Questionnaire data</td>\n",
       "      <td>2 - No</td>\n",
       "      <td>1 - Questionnaire data</td>\n",
       "      <td>2 - No</td>\n",
       "      <td>1 - Questionnaire data</td>\n",
       "      <td>1 - Yes</td>\n",
       "      <td>1 - Questionnaire data</td>\n",
       "      <td>0 - No/Unknown</td>\n",
       "      <td>8 - Twelfth grade</td>\n",
       "      <td>6 - $50,000 - $74,999</td>\n",
       "      <td>6 - $50,000 - $74,999</td>\n",
       "      <td>1 - Questionnaire data</td>\n",
       "      <td>1 - Questionnaire data</td>\n",
       "      <td>0 - No/Unknown</td>\n",
       "      <td>1 - Yes</td>\n",
       "      <td>3 - Income &gt; 2X Fed Pov Thresh</td>\n",
       "      <td>-9 - Data not collected for this year</td>\n",
       "      <td>-9 - Data not collected for this year</td>\n",
       "    </tr>\n",
       "    <tr>\n",
       "      <th>1</th>\n",
       "      <td>2002</td>\n",
       "      <td>2 - Female</td>\n",
       "      <td>2 - 18-25 Years Old</td>\n",
       "      <td>4 - Never Been Married</td>\n",
       "      <td>1 - Marital status from questionnaire</td>\n",
       "      <td>2 - No</td>\n",
       "      <td>1 - Yes</td>\n",
       "      <td>2 - No</td>\n",
       "      <td>4 - R is 18 or older</td>\n",
       "      <td>4 - R is 18 or older</td>\n",
       "      <td>2 - No</td>\n",
       "      <td>2 - No</td>\n",
       "      <td>1 - Questionnaire data</td>\n",
       "      <td>2 - No</td>\n",
       "      <td>1 - Questionnaire data</td>\n",
       "      <td>2 - No</td>\n",
       "      <td>1 - Questionnaire data</td>\n",
       "      <td>1 - Yes</td>\n",
       "      <td>1 - Questionnaire data</td>\n",
       "      <td>0 - No/Unknown</td>\n",
       "      <td>11 - Senior/16th year or Grad/Prof School</td>\n",
       "      <td>4 - $30,000 - $39,999</td>\n",
       "      <td>7 - $75,000 or more</td>\n",
       "      <td>1 - Questionnaire data</td>\n",
       "      <td>1 - Questionnaire data</td>\n",
       "      <td>0 - No/Unknown</td>\n",
       "      <td>1 - Yes</td>\n",
       "      <td>3 - Income &gt; 2X Fed Pov Thresh</td>\n",
       "      <td>-9 - Data not collected for this year</td>\n",
       "      <td>-9 - Data not collected for this year</td>\n",
       "    </tr>\n",
       "    <tr>\n",
       "      <th>2</th>\n",
       "      <td>2002</td>\n",
       "      <td>1 - Male</td>\n",
       "      <td>2 - 18-25 Years Old</td>\n",
       "      <td>4 - Never Been Married</td>\n",
       "      <td>1 - Marital status from questionnaire</td>\n",
       "      <td>94 - DON T KNOW</td>\n",
       "      <td>94 - DON T KNOW</td>\n",
       "      <td>94 - DON T KNOW</td>\n",
       "      <td>4 - R is 18 or older</td>\n",
       "      <td>4 - R is 18 or older</td>\n",
       "      <td>1 - Yes</td>\n",
       "      <td>2 - No</td>\n",
       "      <td>1 - Questionnaire data</td>\n",
       "      <td>2 - No</td>\n",
       "      <td>1 - Questionnaire data</td>\n",
       "      <td>2 - No</td>\n",
       "      <td>1 - Questionnaire data</td>\n",
       "      <td>1 - Yes</td>\n",
       "      <td>1 - Questionnaire data</td>\n",
       "      <td>0 - No/Unknown</td>\n",
       "      <td>9 - Freshman/13th year</td>\n",
       "      <td>1 - Less than $10,000</td>\n",
       "      <td>1 - Less than $10,000</td>\n",
       "      <td>1 - Questionnaire data</td>\n",
       "      <td>1 - Questionnaire data</td>\n",
       "      <td>1 - Yes</td>\n",
       "      <td>94 - DON T KNOW</td>\n",
       "      <td>1 - Living in Poverty</td>\n",
       "      <td>-9 - Data not collected for this year</td>\n",
       "      <td>-9 - Data not collected for this year</td>\n",
       "    </tr>\n",
       "    <tr>\n",
       "      <th>3</th>\n",
       "      <td>2002</td>\n",
       "      <td>1 - Male</td>\n",
       "      <td>2 - 18-25 Years Old</td>\n",
       "      <td>4 - Never Been Married</td>\n",
       "      <td>1 - Marital status from questionnaire</td>\n",
       "      <td>2 - No</td>\n",
       "      <td>1 - Yes</td>\n",
       "      <td>2 - No</td>\n",
       "      <td>4 - R is 18 or older</td>\n",
       "      <td>4 - R is 18 or older</td>\n",
       "      <td>99 - LEGITIMATE SKIP</td>\n",
       "      <td>2 - No</td>\n",
       "      <td>1 - Questionnaire data</td>\n",
       "      <td>1 - Yes</td>\n",
       "      <td>1 - Questionnaire data</td>\n",
       "      <td>2 - No</td>\n",
       "      <td>1 - Questionnaire data</td>\n",
       "      <td>2 - No</td>\n",
       "      <td>1 - Questionnaire data</td>\n",
       "      <td>0 - No/Unknown</td>\n",
       "      <td>10 - Sophomore/14th year or Junior/15th year</td>\n",
       "      <td>1 - Less than $10,000</td>\n",
       "      <td>1 - Less than $10,000</td>\n",
       "      <td>1 - Questionnaire data</td>\n",
       "      <td>1 - Questionnaire data</td>\n",
       "      <td>0 - No/Unknown</td>\n",
       "      <td>1 - Yes</td>\n",
       "      <td>1 - Living in Poverty</td>\n",
       "      <td>-9 - Data not collected for this year</td>\n",
       "      <td>-9 - Data not collected for this year</td>\n",
       "    </tr>\n",
       "    <tr>\n",
       "      <th>4</th>\n",
       "      <td>2002</td>\n",
       "      <td>2 - Female</td>\n",
       "      <td>4 - 35 or Older</td>\n",
       "      <td>1 - Married</td>\n",
       "      <td>1 - Marital status from questionnaire</td>\n",
       "      <td>1 - Yes</td>\n",
       "      <td>1 - Yes</td>\n",
       "      <td>2 - No</td>\n",
       "      <td>4 - R is 18 or older</td>\n",
       "      <td>4 - R is 18 or older</td>\n",
       "      <td>99 - LEGITIMATE SKIP</td>\n",
       "      <td>2 - No</td>\n",
       "      <td>1 - Questionnaire data</td>\n",
       "      <td>2 - No</td>\n",
       "      <td>1 - Questionnaire data</td>\n",
       "      <td>2 - No</td>\n",
       "      <td>1 - Questionnaire data</td>\n",
       "      <td>1 - Yes</td>\n",
       "      <td>1 - Questionnaire data</td>\n",
       "      <td>0 - No/Unknown</td>\n",
       "      <td>8 - Twelfth grade</td>\n",
       "      <td>1 - Less than $10,000</td>\n",
       "      <td>5 - $40,000 - $49,999</td>\n",
       "      <td>1 - Questionnaire data</td>\n",
       "      <td>1 - Questionnaire data</td>\n",
       "      <td>0 - No/Unknown</td>\n",
       "      <td>1 - Yes</td>\n",
       "      <td>3 - Income &gt; 2X Fed Pov Thresh</td>\n",
       "      <td>-9 - Data not collected for this year</td>\n",
       "      <td>-9 - Data not collected for this year</td>\n",
       "    </tr>\n",
       "  </tbody>\n",
       "</table>\n",
       "</div>"
      ],
      "text/plain": [
       "   year       irsex               catage                 irmarit  \\\n",
       "0  2002    1 - Male  3 - 26-34 Years Old             1 - Married   \n",
       "1  2002  2 - Female  2 - 18-25 Years Old  4 - Never Been Married   \n",
       "2  2002    1 - Male  2 - 18-25 Years Old  4 - Never Been Married   \n",
       "3  2002    1 - Male  2 - 18-25 Years Old  4 - Never Been Married   \n",
       "4  2002  2 - Female      4 - 35 or Older             1 - Married   \n",
       "\n",
       "                                 iimarit         medicare         prvhltin  \\\n",
       "0  1 - Marital status from questionnaire           2 - No          1 - Yes   \n",
       "1  1 - Marital status from questionnaire           2 - No          1 - Yes   \n",
       "2  1 - Marital status from questionnaire  94 - DON T KNOW  94 - DON T KNOW   \n",
       "3  1 - Marital status from questionnaire           2 - No          1 - Yes   \n",
       "4  1 - Marital status from questionnaire          1 - Yes          1 - Yes   \n",
       "\n",
       "          caidchip               imother               ifather  \\\n",
       "0           2 - No  4 - R is 18 or older  4 - R is 18 or older   \n",
       "1           2 - No  4 - R is 18 or older  4 - R is 18 or older   \n",
       "2  94 - DON T KNOW  4 - R is 18 or older  4 - R is 18 or older   \n",
       "3           2 - No  4 - R is 18 or older  4 - R is 18 or older   \n",
       "4           2 - No  4 - R is 18 or older  4 - R is 18 or older   \n",
       "\n",
       "               wrkslfem  irpsoc                  iipsoc   irpssi  \\\n",
       "0                2 - No  2 - No  1 - Questionnaire data   2 - No   \n",
       "1                2 - No  2 - No  1 - Questionnaire data   2 - No   \n",
       "2               1 - Yes  2 - No  1 - Questionnaire data   2 - No   \n",
       "3  99 - LEGITIMATE SKIP  2 - No  1 - Questionnaire data  1 - Yes   \n",
       "4  99 - LEGITIMATE SKIP  2 - No  1 - Questionnaire data   2 - No   \n",
       "\n",
       "                   iipssi  irppmt                  iippmt   irpwag  \\\n",
       "0  1 - Questionnaire data  2 - No  1 - Questionnaire data  1 - Yes   \n",
       "1  1 - Questionnaire data  2 - No  1 - Questionnaire data  1 - Yes   \n",
       "2  1 - Questionnaire data  2 - No  1 - Questionnaire data  1 - Yes   \n",
       "3  1 - Questionnaire data  2 - No  1 - Questionnaire data   2 - No   \n",
       "4  1 - Questionnaire data  2 - No  1 - Questionnaire data  1 - Yes   \n",
       "\n",
       "                   iipwag        hydrocd2  \\\n",
       "0  1 - Questionnaire data  0 - No/Unknown   \n",
       "1  1 - Questionnaire data  0 - No/Unknown   \n",
       "2  1 - Questionnaire data  0 - No/Unknown   \n",
       "3  1 - Questionnaire data  0 - No/Unknown   \n",
       "4  1 - Questionnaire data  0 - No/Unknown   \n",
       "\n",
       "                                        ireduc2                irpinc3  \\\n",
       "0                             8 - Twelfth grade  6 - $50,000 - $74,999   \n",
       "1     11 - Senior/16th year or Grad/Prof School  4 - $30,000 - $39,999   \n",
       "2                        9 - Freshman/13th year  1 - Less than $10,000   \n",
       "3  10 - Sophomore/14th year or Junior/15th year  1 - Less than $10,000   \n",
       "4                             8 - Twelfth grade  1 - Less than $10,000   \n",
       "\n",
       "                irfamin3                 iipinc3                iifamin3  \\\n",
       "0  6 - $50,000 - $74,999  1 - Questionnaire data  1 - Questionnaire data   \n",
       "1    7 - $75,000 or more  1 - Questionnaire data  1 - Questionnaire data   \n",
       "2  1 - Less than $10,000  1 - Questionnaire data  1 - Questionnaire data   \n",
       "3  1 - Less than $10,000  1 - Questionnaire data  1 - Questionnaire data   \n",
       "4  5 - $40,000 - $49,999  1 - Questionnaire data  1 - Questionnaire data   \n",
       "\n",
       "         hydcodop         anyhlti2                        poverty2  \\\n",
       "0  0 - No/Unknown          1 - Yes  3 - Income > 2X Fed Pov Thresh   \n",
       "1  0 - No/Unknown          1 - Yes  3 - Income > 2X Fed Pov Thresh   \n",
       "2         1 - Yes  94 - DON T KNOW           1 - Living in Poverty   \n",
       "3  0 - No/Unknown          1 - Yes           1 - Living in Poverty   \n",
       "4  0 - No/Unknown          1 - Yes  3 - Income > 2X Fed Pov Thresh   \n",
       "\n",
       "                              hydcpdapyu  \\\n",
       "0  -9 - Data not collected for this year   \n",
       "1  -9 - Data not collected for this year   \n",
       "2  -9 - Data not collected for this year   \n",
       "3  -9 - Data not collected for this year   \n",
       "4  -9 - Data not collected for this year   \n",
       "\n",
       "                                wrkidst2  \n",
       "0  -9 - Data not collected for this year  \n",
       "1  -9 - Data not collected for this year  \n",
       "2  -9 - Data not collected for this year  \n",
       "3  -9 - Data not collected for this year  \n",
       "4  -9 - Data not collected for this year  "
      ]
     },
     "execution_count": 4,
     "metadata": {},
     "output_type": "execute_result"
    }
   ],
   "source": [
    "df0 = nsduh.copy()\n",
    "df0.head()"
   ]
  },
  {
   "cell_type": "code",
   "execution_count": 5,
   "metadata": {},
   "outputs": [],
   "source": [
    "# Renaming variables\n",
    "dictionary = {\n",
    "    'irsex': 'sex',\n",
    "    'catage': 'age_group',\n",
    "    'irmarit': 'marital',\n",
    "    'iimarit': 'marital_impute',\n",
    "    'anyhlti2': 'insurance_any',\n",
    "    'medicare': 'insurance_medicare',\n",
    "    'prvhltin': 'insurance_private',\n",
    "    'caidchip': 'insurance_poor',\n",
    "    'imother': 'present_mother',\n",
    "    'ifather': 'present_father',\n",
    "    'wrkslfem': 'self_employed',\n",
    "    'irpsoc': 'ssrr_receipient',\n",
    "    'iipsoc': 'ssrr_receipient_impute',\n",
    "    'irpssi': 'ssi_receipient', \n",
    "    'iipssi': 'ssi_receipient_impute',\n",
    "    'irppmt': 'publicAssist_receipient',\n",
    "    'iippmt': 'publicAssist_receipient_impute',\n",
    "    'irpwag': 'wage_receipient',\n",
    "    'iipwag': 'wage_receipient_impute', \n",
    "    'ireduc2': 'education',\n",
    "    'irpinc3': 'income',\n",
    "    'iipinc3': 'income_impute',\n",
    "    'irfamin3': 'income_family',\n",
    "    'iifamin3': 'income_family_impute',\n",
    "    'poverty2': 'poverty_status',\n",
    "    'wrkidst2': 'industry',\n",
    "    'hydrocd2': 'hydro_ever',\n",
    "    'hydcodop': 'hydro_ever_general',\n",
    "    'hydcpdapyu': 'hydro_pastYear'\n",
    "}\n",
    "\n",
    "df0.rename(columns= dictionary, inplace = True)"
   ]
  },
  {
   "cell_type": "code",
   "execution_count": 6,
   "metadata": {},
   "outputs": [],
   "source": [
    "# Replace chunky values with number indicators\n",
    "dict2 = {'-9 - Data not collected for this year': '-9',\n",
    "         '0 - No/Unknown' : '0',\n",
    "         '1 - Yes': '1'}\n",
    "\n",
    "df0.replace(dict2, inplace= True)"
   ]
  },
  {
   "cell_type": "code",
   "execution_count": 7,
   "metadata": {},
   "outputs": [
    {
     "data": {
      "image/png": "[encoded data removed]",
      "text/plain": [
       "<Figure size 432x288 with 1 Axes>"
      ]
     },
     "metadata": {},
     "output_type": "display_data"
    }
   ],
   "source": [
    "# Distribution of outcome variable \n",
    "sns.countplot(y= df0.hydro_ever_general)\n",
    "plt.show()"
   ]
  },
  {
   "cell_type": "code",
   "execution_count": 8,
   "metadata": {},
   "outputs": [
    {
     "data": {
      "text/plain": [
       "array(['2002', '2003', '2004', '2005', '2006', '2007', '2008', '2009',\n",
       "       '2010', '2011', '2012', '2013', '2014'], dtype=object)"
      ]
     },
     "execution_count": 8,
     "metadata": {},
     "output_type": "execute_result"
    }
   ],
   "source": [
    "# Number of years available for target variable \n",
    "df0[df0.hydro_ever_general!= '-9'].year.unique()"
   ]
  },
  {
   "cell_type": "code",
   "execution_count": 9,
   "metadata": {},
   "outputs": [],
   "source": [
    "# Restrict years to only ones where target is observable\n",
    "df0.year = df0.year.astype(int)\n",
    "\n",
    "df0 = df0[df0.year <= 2014]"
   ]
  },
  {
   "cell_type": "code",
   "execution_count": 10,
   "metadata": {},
   "outputs": [
    {
     "data": {
      "image/png": "[encoded data removed]",
      "text/plain": [
       "<Figure size 432x288 with 1 Axes>"
      ]
     },
     "metadata": {},
     "output_type": "display_data"
    }
   ],
   "source": [
    "sns.countplot(y= df0.hydro_ever_general)\n",
    "plt.show()"
   ]
  },
  {
   "cell_type": "markdown",
   "metadata": {},
   "source": [
    "## Keep only observations that do not have imputed value"
   ]
  },
  {
   "cell_type": "code",
   "execution_count": 11,
   "metadata": {},
   "outputs": [],
   "source": [
    "df0 = df0[df0.marital_impute != '3 - Marital status statistically imputed']\n",
    "df0.drop('marital_impute', axis=1, inplace=True)"
   ]
  },
  {
   "cell_type": "code",
   "execution_count": 12,
   "metadata": {},
   "outputs": [],
   "source": [
    "varlist = ['ssrr_receipient_impute', 'ssi_receipient_impute', 'publicAssist_receipient_impute',\n",
    "           'income_family_impute', 'income_impute', 'wage_receipient_impute']\n",
    "\n",
    "for var in varlist:\n",
    "    df0= df0[df0[var] != '3 - Statistically imputed data']\n",
    "    df0.drop(var, axis=1, inplace= True)"
   ]
  },
  {
   "cell_type": "code",
   "execution_count": 13,
   "metadata": {},
   "outputs": [
    {
     "data": {
      "text/plain": [
       "Index(['year', 'sex', 'age_group', 'marital', 'insurance_medicare',\n",
       "       'insurance_private', 'insurance_poor', 'present_mother',\n",
       "       'present_father', 'self_employed', 'ssrr_receipient', 'ssi_receipient',\n",
       "       'publicAssist_receipient', 'wage_receipient', 'hydro_ever', 'education',\n",
       "       'income', 'income_family', 'hydro_ever_general', 'insurance_any',\n",
       "       'poverty_status', 'hydro_pastYear', 'industry'],\n",
       "      dtype='object')"
      ]
     },
     "execution_count": 13,
     "metadata": {},
     "output_type": "execute_result"
    }
   ],
   "source": [
    "df0.columns"
   ]
  },
  {
   "cell_type": "code",
   "execution_count": 14,
   "metadata": {},
   "outputs": [
    {
     "data": {
      "text/plain": [
       "(644502, 23)"
      ]
     },
     "execution_count": 14,
     "metadata": {},
     "output_type": "execute_result"
    }
   ],
   "source": [
    "df0.shape"
   ]
  },
  {
   "cell_type": "markdown",
   "metadata": {},
   "source": [
    "## Cleaning the values for the categorical values"
   ]
  },
  {
   "cell_type": "code",
   "execution_count": 15,
   "metadata": {},
   "outputs": [
    {
     "data": {
      "text/plain": [
       "array(['male', 'female'], dtype=object)"
      ]
     },
     "execution_count": 15,
     "metadata": {},
     "output_type": "execute_result"
    }
   ],
   "source": [
    "df0.sex.replace(['1 - Male', '2 - Female'], ['male', 'female'], inplace= True) \n",
    "df0.sex.unique()"
   ]
  },
  {
   "cell_type": "code",
   "execution_count": 16,
   "metadata": {},
   "outputs": [
    {
     "data": {
      "text/plain": [
       "array(['26To34', '18To25', '35Plus', '12To17'], dtype=object)"
      ]
     },
     "execution_count": 16,
     "metadata": {},
     "output_type": "execute_result"
    }
   ],
   "source": [
    "df0.age_group.replace({\n",
    "    '3 - 26-34 Years Old': '26To34',\n",
    "    '2 - 18-25 Years Old': '18To25',\n",
    "    '4 - 35 or Older': '35Plus',\n",
    "    '1 - 12-17 Years Old': '12To17'\n",
    "}, inplace= True)\n",
    "df0.age_group.unique()"
   ]
  },
  {
   "cell_type": "code",
   "execution_count": 17,
   "metadata": {},
   "outputs": [
    {
     "data": {
      "text/plain": [
       "array(['married', 'never', 'skip', 'divored', 'widowed'], dtype=object)"
      ]
     },
     "execution_count": 17,
     "metadata": {},
     "output_type": "execute_result"
    }
   ],
   "source": [
    "df0.marital.replace({\n",
    "    '1 - Married': 'married',\n",
    "    '4 - Never Been Married': 'never',\n",
    "    '99 - LEGITIMATE SKIP Respondent is <= 14 years old': 'skip',\n",
    "    '3 - Divorced or Separated': 'divored',\n",
    "    '2 - Widowed': 'widowed'\n",
    "}, inplace= True)\n",
    "df0.marital.unique()"
   ]
  },
  {
   "cell_type": "code",
   "execution_count": 18,
   "metadata": {},
   "outputs": [
    {
     "data": {
      "text/plain": [
       "array(['No', 'missing', 'Yes'], dtype=object)"
      ]
     },
     "execution_count": 18,
     "metadata": {},
     "output_type": "execute_result"
    }
   ],
   "source": [
    "df0.insurance_medicare.replace({\n",
    "    '2 - No': 'No',\n",
    "    '1': 'Yes',\n",
    "    '94 - DON T KNOW': 'missing',\n",
    "    '98 - BLANK': 'missing',\n",
    "    '97 - REFUSED': 'missing',\n",
    "    '85 - BAD DATA Logically assigned': 'missing'\n",
    "}, inplace= True)\n",
    "df0.insurance_medicare.unique()"
   ]
  },
  {
   "cell_type": "code",
   "execution_count": 19,
   "metadata": {},
   "outputs": [
    {
     "data": {
      "text/plain": [
       "array(['Yes', 'missing', 'No'], dtype=object)"
      ]
     },
     "execution_count": 19,
     "metadata": {},
     "output_type": "execute_result"
    }
   ],
   "source": [
    "df0.insurance_private.replace({\n",
    "    '2 - No': 'No',\n",
    "    '1': 'Yes',\n",
    "    '94 - DON T KNOW': 'missing',\n",
    "    '98 - BLANK': 'missing',\n",
    "    '97 - REFUSED': 'missing',\n",
    "    '85 - BAD DATA Logically assigned': 'missing'\n",
    "}, inplace= True)\n",
    "df0.insurance_private.unique()"
   ]
  },
  {
   "cell_type": "code",
   "execution_count": 20,
   "metadata": {},
   "outputs": [
    {
     "data": {
      "text/plain": [
       "array(['No', 'missing', 'Yes'], dtype=object)"
      ]
     },
     "execution_count": 20,
     "metadata": {},
     "output_type": "execute_result"
    }
   ],
   "source": [
    "df0.insurance_poor.replace({\n",
    "    '2 - No': 'No',\n",
    "    '1': 'Yes',\n",
    "    '94 - DON T KNOW': 'missing',\n",
    "    '98 - BLANK': 'missing',\n",
    "    '97 - REFUSED': 'missing',\n",
    "    '85 - BAD DATA Logically assigned': 'missing'\n",
    "}, inplace= True)\n",
    "df0.insurance_poor.unique()"
   ]
  },
  {
   "cell_type": "code",
   "execution_count": 21,
   "metadata": {},
   "outputs": [
    {
     "data": {
      "text/plain": [
       "array(['Yes', 'missing', 'No'], dtype=object)"
      ]
     },
     "execution_count": 21,
     "metadata": {},
     "output_type": "execute_result"
    }
   ],
   "source": [
    "df0.insurance_any.replace({\n",
    "    '2 - No': 'No',\n",
    "    '1': 'Yes',\n",
    "    '94 - DON T KNOW': 'missing',\n",
    "    '98 - OTHER MISSING': 'missing',\n",
    "    '97 - REFUSED': 'missing'\n",
    "}, inplace= True)\n",
    "df0.insurance_any.unique()"
   ]
  },
  {
   "cell_type": "code",
   "execution_count": 22,
   "metadata": {},
   "outputs": [
    {
     "data": {
      "text/plain": [
       "array(['No', 'Yes', 'skip', 'missing'], dtype=object)"
      ]
     },
     "execution_count": 22,
     "metadata": {},
     "output_type": "execute_result"
    }
   ],
   "source": [
    "df0.self_employed.replace({\n",
    "    '2 - No': 'No',\n",
    "    '1': 'Yes',\n",
    "    '5 - Yes LOGICALLY ASSIGNED': 'Yes',\n",
    "    '3 - Yes LOGICALLY ASSIGNED': 'Yes',\n",
    "    '99 - LEGITIMATE SKIP': 'skip',\n",
    "    '94 - DON T KNOW': 'missing',\n",
    "    '98 - BLANK': 'missing',\n",
    "    '97 - REFUSED': 'missing'\n",
    "}, inplace= True)\n",
    "df0.self_employed.unique()"
   ]
  },
  {
   "cell_type": "code",
   "execution_count": 23,
   "metadata": {},
   "outputs": [
    {
     "data": {
      "text/plain": [
       "array(['No', 'Yes', 'skip', 'missing'], dtype=object)"
      ]
     },
     "execution_count": 23,
     "metadata": {},
     "output_type": "execute_result"
    }
   ],
   "source": [
    "df0.ssrr_receipient.replace({\n",
    "    '2 - No': 'No',\n",
    "    '1': 'Yes',\n",
    "    '99 - LEGITIMATE SKIP': 'skip',\n",
    "    '-9' : 'missing'\n",
    "}, inplace= True)\n",
    "df0.ssrr_receipient.unique()"
   ]
  },
  {
   "cell_type": "code",
   "execution_count": 24,
   "metadata": {},
   "outputs": [
    {
     "data": {
      "text/plain": [
       "array(['No', 'Yes', 'skip', 'missing'], dtype=object)"
      ]
     },
     "execution_count": 24,
     "metadata": {},
     "output_type": "execute_result"
    }
   ],
   "source": [
    "df0.ssi_receipient.replace({\n",
    "    '2 - No': 'No',\n",
    "    '1': 'Yes',\n",
    "    '99 - LEGITIMATE SKIP': 'skip',\n",
    "    '-9' : 'missing'\n",
    "}, inplace= True)\n",
    "df0.ssi_receipient.unique()"
   ]
  },
  {
   "cell_type": "code",
   "execution_count": 25,
   "metadata": {},
   "outputs": [
    {
     "data": {
      "text/plain": [
       "array(['No', 'Yes', 'skip', 'missing'], dtype=object)"
      ]
     },
     "execution_count": 25,
     "metadata": {},
     "output_type": "execute_result"
    }
   ],
   "source": [
    "df0.publicAssist_receipient.replace({\n",
    "    '2 - No': 'No',\n",
    "    '1': 'Yes',\n",
    "    '99 - LEGITIMATE SKIP': 'skip',\n",
    "    '-9' : 'missing'\n",
    "}, inplace= True)\n",
    "df0.publicAssist_receipient.unique()"
   ]
  },
  {
   "cell_type": "code",
   "execution_count": 26,
   "metadata": {},
   "outputs": [
    {
     "data": {
      "text/plain": [
       "array(['highschool_finished', 'college_finished', 'college', 'highschool',\n",
       "       'middle_school', 'elementary'], dtype=object)"
      ]
     },
     "execution_count": 26,
     "metadata": {},
     "output_type": "execute_result"
    }
   ],
   "source": [
    "df0.education.replace({\n",
    "    '8 - Twelfth grade': 'highschool_finished',\n",
    "    '11 - Senior/16th year or Grad/Prof School': 'college_finished',\n",
    "    '9 - Freshman/13th year': 'college',\n",
    "    '10 - Sophomore/14th year or Junior/15th year': 'college',\n",
    "    '5 - Ninth grade': 'highschool',\n",
    "    '7 - Eleventh grade': 'highschool',\n",
    "    '2 - Sixth grade': 'middle_school', \n",
    "    '4 - Eighth grade': 'middle_school',\n",
    "    '3 - Seventh grade': 'middle_school',\n",
    "    '6 - Tenth grade': 'middle_school',\n",
    "    '1 - Fifth grade or less': 'elementary'\n",
    "}, inplace= True)\n",
    "df0.education.unique()"
   ]
  },
  {
   "cell_type": "code",
   "execution_count": 27,
   "metadata": {},
   "outputs": [
    {
     "data": {
      "text/plain": [
       "1    358589\n",
       "2     95587\n",
       "3     61781\n",
       "4     42538\n",
       "6     32049\n",
       "5     28559\n",
       "7     25399\n",
       "Name: income, dtype: int64"
      ]
     },
     "execution_count": 27,
     "metadata": {},
     "output_type": "execute_result"
    }
   ],
   "source": [
    "df0.income.replace({\n",
    "    '1 - Less than $10,000': 1,\n",
    "    '2 - $10,000 - $19,999': 2,\n",
    "    '3 - $20,000 - $29,999': 3,\n",
    "    '4 - $30,000 - $39,999': 4,\n",
    "    '5 - $40,000 - $49,999': 5,\n",
    "    '6 - $50,000 - $74,999': 6,\n",
    "    '7 - $75,000 or more': 7\n",
    "}, inplace= True)\n",
    "df0.income.value_counts()"
   ]
  },
  {
   "cell_type": "code",
   "execution_count": 28,
   "metadata": {},
   "outputs": [
    {
     "data": {
      "text/plain": [
       "7    165999\n",
       "6    109690\n",
       "2     82083\n",
       "3     77081\n",
       "4     72970\n",
       "5     71223\n",
       "1     65456\n",
       "Name: income_family, dtype: int64"
      ]
     },
     "execution_count": 28,
     "metadata": {},
     "output_type": "execute_result"
    }
   ],
   "source": [
    "df0.income_family.replace({\n",
    "    '1 - Less than $10,000': 1,\n",
    "    '2 - $10,000 - $19,999': 2,\n",
    "    '3 - $20,000 - $29,999': 3,\n",
    "    '4 - $30,000 - $39,999': 4,\n",
    "    '5 - $40,000 - $49,999': 5,\n",
    "    '6 - $50,000 - $74,999': 6,\n",
    "    '7 - $75,000 or more': 7\n",
    "}, inplace= True)\n",
    "df0.income_family.value_counts()"
   ]
  },
  {
   "cell_type": "code",
   "execution_count": 29,
   "metadata": {},
   "outputs": [
    {
     "data": {
      "text/plain": [
       "array([0, 1], dtype=int64)"
      ]
     },
     "execution_count": 29,
     "metadata": {},
     "output_type": "execute_result"
    }
   ],
   "source": [
    "df0.hydro_ever.replace(['0', '1'], [0, 1], inplace=True)\n",
    "df0.hydro_ever.unique()"
   ]
  },
  {
   "cell_type": "code",
   "execution_count": 30,
   "metadata": {},
   "outputs": [
    {
     "data": {
      "text/plain": [
       "0    575471\n",
       "1     69031\n",
       "Name: hydro_ever_general, dtype: int64"
      ]
     },
     "execution_count": 30,
     "metadata": {},
     "output_type": "execute_result"
    }
   ],
   "source": [
    "df0.hydro_ever_general.replace(['0', '1'], [0, 1], inplace=True)\n",
    "df0.hydro_ever_general.value_counts()"
   ]
  },
  {
   "cell_type": "code",
   "execution_count": 31,
   "metadata": {},
   "outputs": [
    {
     "data": {
      "text/plain": [
       "0    529306\n",
       "1    115196\n",
       "Name: poverty_status, dtype: int64"
      ]
     },
     "execution_count": 31,
     "metadata": {},
     "output_type": "execute_result"
    }
   ],
   "source": [
    "df0.poverty_status = (df0.poverty_status == '1 - Living in Poverty').astype(int)\n",
    "df0.poverty_status.value_counts()"
   ]
  },
  {
   "cell_type": "code",
   "execution_count": 32,
   "metadata": {},
   "outputs": [
    {
     "data": {
      "text/plain": [
       "skip                                                 279223\n",
       "education_health_social                               63238\n",
       "Arts/Entertain/Recreation/Accommodation/Food Svcs     50094\n",
       "missing                                               48599\n",
       "retail                                                43428\n",
       "management                                            30373\n",
       "construction                                          24101\n",
       "manufacturing_durable                                 17620\n",
       "others                                                16587\n",
       "finance_estate                                        16218\n",
       "public_administration                                 12155\n",
       "transportation_utility                                11302\n",
       "manufacturing_nondurable                              10523\n",
       "information_communication                              6370\n",
       "agriculture_gathering                                  5643\n",
       "wholesale_nondurable                                   3971\n",
       "wholesale_durable                                      3221\n",
       "mining                                                 1779\n",
       "military                                                 57\n",
       "Name: industry, dtype: int64"
      ]
     },
     "execution_count": 32,
     "metadata": {},
     "output_type": "execute_result"
    }
   ],
   "source": [
    "df0.industry.replace({\n",
    "    '-9': 'missing',\n",
    "    '9998 - BLANK': 'missing',\n",
    "    '9990 - NOT REPORTED/NOT CODABLE': 'missing',\n",
    "    '9997 - REFUSED': 'missing',\n",
    "    '9994 - DON T KNOW': 'missing',\n",
    "    '9999 - LEGITIMATE SKIP': 'skip',\n",
    "    '10 - Retail Trade': 'retail',\n",
    "    '14 - Arts/Entertain/Recreation/Accommodation/Food Svcs': 'Arts/Entertain/Recreation/Accommodation/Food Svcs',\n",
    "    '3 - Construction': 'construction',\n",
    "    '13 - Education, Health & Social Services': 'education_health_social',\n",
    "    '7 - Information & Communications': 'information_communication',\n",
    "    '12 - Professional/Scientific/Mgmt/Admin/Waste Mgmt': 'management',\n",
    "    '15 - Public Administration': 'public_administration',\n",
    "    '5 - Manufacturing, Durable Goods': 'manufacturing_durable',\n",
    "    '4 - Manufacturing, Nondurable Goods': 'manufacturing_nondurable',\n",
    "    '11 - Finance, Insur, Real Estate, Rental & Leasing': 'finance_estate',\n",
    "    '1 - Agriculture, Forestry, Fishing, & Hunting': 'agriculture_gathering',\n",
    "    '9 - Wholesale Trade, Nondurable Goods': 'wholesale_nondurable',\n",
    "    '8 - Wholesale Trade, Durable Goods': 'wholesale_durable',\n",
    "    '6 - Transportation & Utilities': 'transportation_utility',\n",
    "    '17 - Armed Forces': 'military',\n",
    "    '2 - Mining': 'mining',\n",
    "    '16 - Other Services': 'others'\n",
    "}, inplace=True)\n",
    "\n",
    "df0.industry.value_counts()"
   ]
  },
  {
   "cell_type": "code",
   "execution_count": 33,
   "metadata": {},
   "outputs": [
    {
     "data": {
      "text/plain": [
       "0    573477\n",
       "1     71025\n",
       "Name: hard_occupation, dtype: int64"
      ]
     },
     "execution_count": 33,
     "metadata": {},
     "output_type": "execute_result"
    }
   ],
   "source": [
    "# Create a flag for occupations more easy to accumulate pain\n",
    "hard_occupations= ['manufacturing_durable', 'manufacturing_nondurable', 'construction', \n",
    "                'agriculture_gathering', 'transportation_utility', 'agriculture_gathering',\n",
    "                'mining', 'military']\n",
    "df0['hard_occupation'] = (df0.industry.isin(hard_occupations)).astype(int)\n",
    "df0.hard_occupation.value_counts()\n"
   ]
  },
  {
   "cell_type": "code",
   "execution_count": 34,
   "metadata": {},
   "outputs": [
    {
     "data": {
      "text/plain": [
       "Index(['year', 'sex', 'age_group', 'marital', 'insurance_medicare',\n",
       "       'insurance_private', 'insurance_poor', 'present_mother',\n",
       "       'present_father', 'self_employed', 'ssrr_receipient', 'ssi_receipient',\n",
       "       'publicAssist_receipient', 'wage_receipient', 'hydro_ever', 'education',\n",
       "       'income', 'income_family', 'hydro_ever_general', 'insurance_any',\n",
       "       'poverty_status', 'hydro_pastYear', 'industry', 'hard_occupation'],\n",
       "      dtype='object')"
      ]
     },
     "execution_count": 34,
     "metadata": {},
     "output_type": "execute_result"
    }
   ],
   "source": [
    "df0.columns"
   ]
  },
  {
   "cell_type": "code",
   "execution_count": 35,
   "metadata": {},
   "outputs": [],
   "source": [
    "# Drop unnecessary variables\n",
    "\n",
    "varlist= ['present_father', 'present_mother', 'wage_receipient', 'hydro_ever', 'hydro_pastYear', 'year']\n",
    "df0.drop(columns=varlist, inplace=True)"
   ]
  },
  {
   "cell_type": "code",
   "execution_count": 36,
   "metadata": {},
   "outputs": [
    {
     "data": {
      "text/html": [
       "<div>\n",
       "<style scoped>\n",
       "    .dataframe tbody tr th:only-of-type {\n",
       "        vertical-align: middle;\n",
       "    }\n",
       "\n",
       "    .dataframe tbody tr th {\n",
       "        vertical-align: top;\n",
       "    }\n",
       "\n",
       "    .dataframe thead th {\n",
       "        text-align: right;\n",
       "    }\n",
       "</style>\n",
       "<table border=\"1\" class=\"dataframe\">\n",
       "  <thead>\n",
       "    <tr style=\"text-align: right;\">\n",
       "      <th></th>\n",
       "      <th>sex</th>\n",
       "      <th>age_group</th>\n",
       "      <th>marital</th>\n",
       "      <th>insurance_medicare</th>\n",
       "      <th>insurance_private</th>\n",
       "      <th>insurance_poor</th>\n",
       "      <th>self_employed</th>\n",
       "      <th>ssrr_receipient</th>\n",
       "      <th>ssi_receipient</th>\n",
       "      <th>publicAssist_receipient</th>\n",
       "      <th>education</th>\n",
       "      <th>income</th>\n",
       "      <th>income_family</th>\n",
       "      <th>hydro_ever_general</th>\n",
       "      <th>insurance_any</th>\n",
       "      <th>poverty_status</th>\n",
       "      <th>industry</th>\n",
       "      <th>hard_occupation</th>\n",
       "    </tr>\n",
       "  </thead>\n",
       "  <tbody>\n",
       "    <tr>\n",
       "      <th>0</th>\n",
       "      <td>male</td>\n",
       "      <td>26To34</td>\n",
       "      <td>married</td>\n",
       "      <td>No</td>\n",
       "      <td>Yes</td>\n",
       "      <td>No</td>\n",
       "      <td>No</td>\n",
       "      <td>No</td>\n",
       "      <td>No</td>\n",
       "      <td>No</td>\n",
       "      <td>highschool_finished</td>\n",
       "      <td>6</td>\n",
       "      <td>6</td>\n",
       "      <td>0</td>\n",
       "      <td>Yes</td>\n",
       "      <td>0</td>\n",
       "      <td>missing</td>\n",
       "      <td>0</td>\n",
       "    </tr>\n",
       "    <tr>\n",
       "      <th>1</th>\n",
       "      <td>female</td>\n",
       "      <td>18To25</td>\n",
       "      <td>never</td>\n",
       "      <td>No</td>\n",
       "      <td>Yes</td>\n",
       "      <td>No</td>\n",
       "      <td>No</td>\n",
       "      <td>No</td>\n",
       "      <td>No</td>\n",
       "      <td>No</td>\n",
       "      <td>college_finished</td>\n",
       "      <td>4</td>\n",
       "      <td>7</td>\n",
       "      <td>0</td>\n",
       "      <td>Yes</td>\n",
       "      <td>0</td>\n",
       "      <td>missing</td>\n",
       "      <td>0</td>\n",
       "    </tr>\n",
       "    <tr>\n",
       "      <th>2</th>\n",
       "      <td>male</td>\n",
       "      <td>18To25</td>\n",
       "      <td>never</td>\n",
       "      <td>missing</td>\n",
       "      <td>missing</td>\n",
       "      <td>missing</td>\n",
       "      <td>Yes</td>\n",
       "      <td>No</td>\n",
       "      <td>No</td>\n",
       "      <td>No</td>\n",
       "      <td>college</td>\n",
       "      <td>1</td>\n",
       "      <td>1</td>\n",
       "      <td>1</td>\n",
       "      <td>missing</td>\n",
       "      <td>1</td>\n",
       "      <td>missing</td>\n",
       "      <td>0</td>\n",
       "    </tr>\n",
       "    <tr>\n",
       "      <th>3</th>\n",
       "      <td>male</td>\n",
       "      <td>18To25</td>\n",
       "      <td>never</td>\n",
       "      <td>No</td>\n",
       "      <td>Yes</td>\n",
       "      <td>No</td>\n",
       "      <td>skip</td>\n",
       "      <td>No</td>\n",
       "      <td>Yes</td>\n",
       "      <td>No</td>\n",
       "      <td>college</td>\n",
       "      <td>1</td>\n",
       "      <td>1</td>\n",
       "      <td>0</td>\n",
       "      <td>Yes</td>\n",
       "      <td>1</td>\n",
       "      <td>missing</td>\n",
       "      <td>0</td>\n",
       "    </tr>\n",
       "    <tr>\n",
       "      <th>4</th>\n",
       "      <td>female</td>\n",
       "      <td>35Plus</td>\n",
       "      <td>married</td>\n",
       "      <td>Yes</td>\n",
       "      <td>Yes</td>\n",
       "      <td>No</td>\n",
       "      <td>skip</td>\n",
       "      <td>No</td>\n",
       "      <td>No</td>\n",
       "      <td>No</td>\n",
       "      <td>highschool_finished</td>\n",
       "      <td>1</td>\n",
       "      <td>5</td>\n",
       "      <td>0</td>\n",
       "      <td>Yes</td>\n",
       "      <td>0</td>\n",
       "      <td>missing</td>\n",
       "      <td>0</td>\n",
       "    </tr>\n",
       "  </tbody>\n",
       "</table>\n",
       "</div>"
      ],
      "text/plain": [
       "      sex age_group  marital insurance_medicare insurance_private  \\\n",
       "0    male    26To34  married                 No               Yes   \n",
       "1  female    18To25    never                 No               Yes   \n",
       "2    male    18To25    never            missing           missing   \n",
       "3    male    18To25    never                 No               Yes   \n",
       "4  female    35Plus  married                Yes               Yes   \n",
       "\n",
       "  insurance_poor self_employed ssrr_receipient ssi_receipient  \\\n",
       "0             No            No              No             No   \n",
       "1             No            No              No             No   \n",
       "2        missing           Yes              No             No   \n",
       "3             No          skip              No            Yes   \n",
       "4             No          skip              No             No   \n",
       "\n",
       "  publicAssist_receipient            education  income  income_family  \\\n",
       "0                      No  highschool_finished       6              6   \n",
       "1                      No     college_finished       4              7   \n",
       "2                      No              college       1              1   \n",
       "3                      No              college       1              1   \n",
       "4                      No  highschool_finished       1              5   \n",
       "\n",
       "   hydro_ever_general insurance_any  poverty_status industry  hard_occupation  \n",
       "0                   0           Yes               0  missing                0  \n",
       "1                   0           Yes               0  missing                0  \n",
       "2                   1       missing               1  missing                0  \n",
       "3                   0           Yes               1  missing                0  \n",
       "4                   0           Yes               0  missing                0  "
      ]
     },
     "execution_count": 36,
     "metadata": {},
     "output_type": "execute_result"
    }
   ],
   "source": [
    "df0.head()"
   ]
  },
  {
   "cell_type": "markdown",
   "metadata": {},
   "source": [
    "# II. Exploratory Graphs"
   ]
  },
  {
   "cell_type": "markdown",
   "metadata": {},
   "source": [
    "Segmentation analysis for categorical values"
   ]
  },
  {
   "cell_type": "code",
   "execution_count": 37,
   "metadata": {},
   "outputs": [
    {
     "data": {
      "image/png": "[encoded data removed]",
      "text/plain": [
       "<Figure size 432x288 with 1 Axes>"
      ]
     },
     "metadata": {},
     "output_type": "display_data"
    },
    {
     "data": {
      "image/png": "[encoded data removed]",
      "text/plain": [
       "<Figure size 432x288 with 1 Axes>"
      ]
     },
     "metadata": {},
     "output_type": "display_data"
    },
    {
     "data": {
      "image/png": "[encoded data removed]",
      "text/plain": [
       "<Figure size 432x288 with 1 Axes>"
      ]
     },
     "metadata": {},
     "output_type": "display_data"
    },
    {
     "data": {
      "image/png": "[encoded data removed]",
      "text/plain": [
       "<Figure size 432x288 with 1 Axes>"
      ]
     },
     "metadata": {},
     "output_type": "display_data"
    },
    {
     "data": {
      "image/png": "[encoded data removed]",
      "text/plain": [
       "<Figure size 432x288 with 1 Axes>"
      ]
     },
     "metadata": {},
     "output_type": "display_data"
    },
    {
     "data": {
      "image/png": "[encoded data removed]",
      "text/plain": [
       "<Figure size 432x288 with 1 Axes>"
      ]
     },
     "metadata": {},
     "output_type": "display_data"
    },
    {
     "data": {
      "image/png": "[encoded data removed]",
      "text/plain": [
       "<Figure size 432x288 with 1 Axes>"
      ]
     },
     "metadata": {},
     "output_type": "display_data"
    },
    {
     "data": {
      "image/png": "[encoded data removed]",
      "text/plain": [
       "<Figure size 432x288 with 1 Axes>"
      ]
     },
     "metadata": {},
     "output_type": "display_data"
    },
    {
     "data": {
      "image/png": "[encoded data removed]",
      "text/plain": [
       "<Figure size 432x288 with 1 Axes>"
      ]
     },
     "metadata": {},
     "output_type": "display_data"
    },
    {
     "data": {
      "image/png": "[encoded data removed]",
      "text/plain": [
       "<Figure size 432x288 with 1 Axes>"
      ]
     },
     "metadata": {},
     "output_type": "display_data"
    },
    {
     "data": {
      "image/png": "[encoded data removed]",
      "text/plain": [
       "<Figure size 432x288 with 1 Axes>"
      ]
     },
     "metadata": {},
     "output_type": "display_data"
    },
    {
     "data": {
      "image/png": "[encoded data removed]",
      "text/plain": [
       "<Figure size 432x288 with 1 Axes>"
      ]
     },
     "metadata": {},
     "output_type": "display_data"
    },
    {
     "data": {
      "image/png": "[encoded data removed]",
      "text/plain": [
       "<Figure size 432x288 with 1 Axes>"
      ]
     },
     "metadata": {},
     "output_type": "display_data"
    },
    {
     "data": {
      "image/png": "[encoded data removed]",
      "text/plain": [
       "<Figure size 432x288 with 1 Axes>"
      ]
     },
     "metadata": {},
     "output_type": "display_data"
    },
    {
     "data": {
      "image/png": "[encoded data removed]",
      "text/plain": [
       "<Figure size 432x288 with 1 Axes>"
      ]
     },
     "metadata": {},
     "output_type": "display_data"
    },
    {
     "data": {
      "image/png": "[encoded data removed]",
      "text/plain": [
       "<Figure size 432x288 with 1 Axes>"
      ]
     },
     "metadata": {},
     "output_type": "display_data"
    },
    {
     "data": {
      "image/png": "[encoded data removed]",
      "text/plain": [
       "<Figure size 432x288 with 1 Axes>"
      ]
     },
     "metadata": {},
     "output_type": "display_data"
    }
   ],
   "source": [
    "X = df0.drop('hydro_ever_general', axis=1)\n",
    "for var in X.columns:\n",
    "    sns.countplot(y= var, data= df0, hue= 'hydro_ever_general')\n",
    "    plt.show()"
   ]
  },
  {
   "cell_type": "markdown",
   "metadata": {},
   "source": [
    "Segmentation for family income"
   ]
  },
  {
   "cell_type": "code",
   "execution_count": 38,
   "metadata": {},
   "outputs": [
    {
     "data": {
      "image/png": "[encoded data removed]",
      "text/plain": [
       "<Figure size 432x288 with 1 Axes>"
      ]
     },
     "metadata": {},
     "output_type": "display_data"
    }
   ],
   "source": [
    "sns.violinplot(x= 'hydro_ever_general', y='income', data= df0 )\n",
    "plt.show()"
   ]
  },
  {
   "cell_type": "code",
   "execution_count": 39,
   "metadata": {},
   "outputs": [
    {
     "data": {
      "image/png": "[encoded data removed]",
      "text/plain": [
       "<Figure size 432x288 with 1 Axes>"
      ]
     },
     "metadata": {},
     "output_type": "display_data"
    }
   ],
   "source": [
    "sns.violinplot(x= 'hydro_ever_general', y='income_family', data= df0 )\n",
    "plt.show()"
   ]
  },
  {
   "cell_type": "markdown",
   "metadata": {},
   "source": [
    "# Further cleaning for values, and save as ABT"
   ]
  },
  {
   "cell_type": "code",
   "execution_count": 40,
   "metadata": {},
   "outputs": [],
   "source": [
    "varlist = ['age_group', 'education', 'industry', 'marital']\n",
    "df0= pd.get_dummies(df0, columns=varlist)"
   ]
  },
  {
   "cell_type": "code",
   "execution_count": 41,
   "metadata": {},
   "outputs": [],
   "source": [
    "df0.sex.replace(['male', 'female'], [1, 0], inplace= True)"
   ]
  },
  {
   "cell_type": "code",
   "execution_count": 42,
   "metadata": {},
   "outputs": [],
   "source": [
    "varlist = ['insurance_medicare', 'insurance_private', 'insurance_poor',\n",
    "    'self_employed', 'ssrr_receipient', 'ssi_receipient', 'publicAssist_receipient',\n",
    "    'insurance_any']\n",
    "\n",
    "for var in varlist:\n",
    "    df0['{}_missing'.format(var)]= (df0[var]=='missing').astype(int)\n",
    "    df0[var].replace(['Yes', 'No', 'missing', 'skip'], [1, 0, -1, -1], inplace= True)"
   ]
  },
  {
   "cell_type": "code",
   "execution_count": null,
   "metadata": {},
   "outputs": [],
   "source": [
    "df0 = df0[df0.columns.drop(list(df0.filter(regex='skip')))]"
   ]
  },
  {
   "cell_type": "code",
   "execution_count": 56,
   "metadata": {},
   "outputs": [],
   "source": [
    "varlist =  ['industry_Arts/Entertain/Recreation/Accommodation/Food Svcs',\n",
    "       'industry_agriculture_gathering', 'industry_construction',\n",
    "       'industry_education_health_social', 'industry_finance_estate',\n",
    "       'industry_information_communication', 'industry_management',\n",
    "       'industry_manufacturing_durable', 'industry_manufacturing_nondurable',\n",
    "       'industry_military', 'industry_mining', 'industry_others', \n",
    "       'industry_public_administration', 'industry_retail',\n",
    "       'industry_transportation_utility', 'industry_wholesale_durable',\n",
    "       'industry_wholesale_nondurable', 'ssrr_receipient', 'ssi_receipient',\n",
    "       'ssrr_receipient_missing', 'ssi_receipient_missing']\n",
    "\n",
    "df0.drop(columns= varlist, inplace= True)"
   ]
  },
  {
   "cell_type": "code",
   "execution_count": 57,
   "metadata": {},
   "outputs": [
    {
     "data": {
      "text/html": [
       "<div>\n",
       "<style scoped>\n",
       "    .dataframe tbody tr th:only-of-type {\n",
       "        vertical-align: middle;\n",
       "    }\n",
       "\n",
       "    .dataframe tbody tr th {\n",
       "        vertical-align: top;\n",
       "    }\n",
       "\n",
       "    .dataframe thead th {\n",
       "        text-align: right;\n",
       "    }\n",
       "</style>\n",
       "<table border=\"1\" class=\"dataframe\">\n",
       "  <thead>\n",
       "    <tr style=\"text-align: right;\">\n",
       "      <th></th>\n",
       "      <th>sex</th>\n",
       "      <th>insurance_medicare</th>\n",
       "      <th>insurance_private</th>\n",
       "      <th>insurance_poor</th>\n",
       "      <th>self_employed</th>\n",
       "      <th>publicAssist_receipient</th>\n",
       "      <th>income</th>\n",
       "      <th>income_family</th>\n",
       "      <th>hydro_ever_general</th>\n",
       "      <th>insurance_any</th>\n",
       "      <th>poverty_status</th>\n",
       "      <th>hard_occupation</th>\n",
       "      <th>age_group_12To17</th>\n",
       "      <th>age_group_18To25</th>\n",
       "      <th>age_group_26To34</th>\n",
       "      <th>age_group_35Plus</th>\n",
       "      <th>education_college</th>\n",
       "      <th>education_college_finished</th>\n",
       "      <th>education_elementary</th>\n",
       "      <th>education_highschool</th>\n",
       "      <th>education_highschool_finished</th>\n",
       "      <th>education_middle_school</th>\n",
       "      <th>industry_missing</th>\n",
       "      <th>marital_divored</th>\n",
       "      <th>marital_married</th>\n",
       "      <th>marital_never</th>\n",
       "      <th>marital_widowed</th>\n",
       "      <th>insurance_medicare_missing</th>\n",
       "      <th>insurance_private_missing</th>\n",
       "      <th>insurance_poor_missing</th>\n",
       "      <th>self_employed_missing</th>\n",
       "      <th>ssrr_receipient_missing</th>\n",
       "      <th>ssi_receipient_missing</th>\n",
       "      <th>publicAssist_receipient_missing</th>\n",
       "      <th>insurance_any_missing</th>\n",
       "    </tr>\n",
       "  </thead>\n",
       "  <tbody>\n",
       "    <tr>\n",
       "      <th>0</th>\n",
       "      <td>1</td>\n",
       "      <td>0</td>\n",
       "      <td>1</td>\n",
       "      <td>0</td>\n",
       "      <td>0</td>\n",
       "      <td>0</td>\n",
       "      <td>6</td>\n",
       "      <td>6</td>\n",
       "      <td>0</td>\n",
       "      <td>1</td>\n",
       "      <td>0</td>\n",
       "      <td>0</td>\n",
       "      <td>0</td>\n",
       "      <td>0</td>\n",
       "      <td>1</td>\n",
       "      <td>0</td>\n",
       "      <td>0</td>\n",
       "      <td>0</td>\n",
       "      <td>0</td>\n",
       "      <td>0</td>\n",
       "      <td>1</td>\n",
       "      <td>0</td>\n",
       "      <td>1</td>\n",
       "      <td>0</td>\n",
       "      <td>1</td>\n",
       "      <td>0</td>\n",
       "      <td>0</td>\n",
       "      <td>0</td>\n",
       "      <td>0</td>\n",
       "      <td>0</td>\n",
       "      <td>0</td>\n",
       "      <td>0</td>\n",
       "      <td>0</td>\n",
       "      <td>0</td>\n",
       "      <td>0</td>\n",
       "    </tr>\n",
       "    <tr>\n",
       "      <th>1</th>\n",
       "      <td>0</td>\n",
       "      <td>0</td>\n",
       "      <td>1</td>\n",
       "      <td>0</td>\n",
       "      <td>0</td>\n",
       "      <td>0</td>\n",
       "      <td>4</td>\n",
       "      <td>7</td>\n",
       "      <td>0</td>\n",
       "      <td>1</td>\n",
       "      <td>0</td>\n",
       "      <td>0</td>\n",
       "      <td>0</td>\n",
       "      <td>1</td>\n",
       "      <td>0</td>\n",
       "      <td>0</td>\n",
       "      <td>0</td>\n",
       "      <td>1</td>\n",
       "      <td>0</td>\n",
       "      <td>0</td>\n",
       "      <td>0</td>\n",
       "      <td>0</td>\n",
       "      <td>1</td>\n",
       "      <td>0</td>\n",
       "      <td>0</td>\n",
       "      <td>1</td>\n",
       "      <td>0</td>\n",
       "      <td>0</td>\n",
       "      <td>0</td>\n",
       "      <td>0</td>\n",
       "      <td>0</td>\n",
       "      <td>0</td>\n",
       "      <td>0</td>\n",
       "      <td>0</td>\n",
       "      <td>0</td>\n",
       "    </tr>\n",
       "    <tr>\n",
       "      <th>2</th>\n",
       "      <td>1</td>\n",
       "      <td>-1</td>\n",
       "      <td>-1</td>\n",
       "      <td>-1</td>\n",
       "      <td>1</td>\n",
       "      <td>0</td>\n",
       "      <td>1</td>\n",
       "      <td>1</td>\n",
       "      <td>1</td>\n",
       "      <td>-1</td>\n",
       "      <td>1</td>\n",
       "      <td>0</td>\n",
       "      <td>0</td>\n",
       "      <td>1</td>\n",
       "      <td>0</td>\n",
       "      <td>0</td>\n",
       "      <td>1</td>\n",
       "      <td>0</td>\n",
       "      <td>0</td>\n",
       "      <td>0</td>\n",
       "      <td>0</td>\n",
       "      <td>0</td>\n",
       "      <td>1</td>\n",
       "      <td>0</td>\n",
       "      <td>0</td>\n",
       "      <td>1</td>\n",
       "      <td>0</td>\n",
       "      <td>1</td>\n",
       "      <td>1</td>\n",
       "      <td>1</td>\n",
       "      <td>0</td>\n",
       "      <td>0</td>\n",
       "      <td>0</td>\n",
       "      <td>0</td>\n",
       "      <td>1</td>\n",
       "    </tr>\n",
       "    <tr>\n",
       "      <th>3</th>\n",
       "      <td>1</td>\n",
       "      <td>0</td>\n",
       "      <td>1</td>\n",
       "      <td>0</td>\n",
       "      <td>-1</td>\n",
       "      <td>0</td>\n",
       "      <td>1</td>\n",
       "      <td>1</td>\n",
       "      <td>0</td>\n",
       "      <td>1</td>\n",
       "      <td>1</td>\n",
       "      <td>0</td>\n",
       "      <td>0</td>\n",
       "      <td>1</td>\n",
       "      <td>0</td>\n",
       "      <td>0</td>\n",
       "      <td>1</td>\n",
       "      <td>0</td>\n",
       "      <td>0</td>\n",
       "      <td>0</td>\n",
       "      <td>0</td>\n",
       "      <td>0</td>\n",
       "      <td>1</td>\n",
       "      <td>0</td>\n",
       "      <td>0</td>\n",
       "      <td>1</td>\n",
       "      <td>0</td>\n",
       "      <td>0</td>\n",
       "      <td>0</td>\n",
       "      <td>0</td>\n",
       "      <td>0</td>\n",
       "      <td>0</td>\n",
       "      <td>0</td>\n",
       "      <td>0</td>\n",
       "      <td>0</td>\n",
       "    </tr>\n",
       "    <tr>\n",
       "      <th>4</th>\n",
       "      <td>0</td>\n",
       "      <td>1</td>\n",
       "      <td>1</td>\n",
       "      <td>0</td>\n",
       "      <td>-1</td>\n",
       "      <td>0</td>\n",
       "      <td>1</td>\n",
       "      <td>5</td>\n",
       "      <td>0</td>\n",
       "      <td>1</td>\n",
       "      <td>0</td>\n",
       "      <td>0</td>\n",
       "      <td>0</td>\n",
       "      <td>0</td>\n",
       "      <td>0</td>\n",
       "      <td>1</td>\n",
       "      <td>0</td>\n",
       "      <td>0</td>\n",
       "      <td>0</td>\n",
       "      <td>0</td>\n",
       "      <td>1</td>\n",
       "      <td>0</td>\n",
       "      <td>1</td>\n",
       "      <td>0</td>\n",
       "      <td>1</td>\n",
       "      <td>0</td>\n",
       "      <td>0</td>\n",
       "      <td>0</td>\n",
       "      <td>0</td>\n",
       "      <td>0</td>\n",
       "      <td>0</td>\n",
       "      <td>0</td>\n",
       "      <td>0</td>\n",
       "      <td>0</td>\n",
       "      <td>0</td>\n",
       "    </tr>\n",
       "  </tbody>\n",
       "</table>\n",
       "</div>"
      ],
      "text/plain": [
       "   sex  insurance_medicare  insurance_private  insurance_poor  self_employed  \\\n",
       "0    1                   0                  1               0              0   \n",
       "1    0                   0                  1               0              0   \n",
       "2    1                  -1                 -1              -1              1   \n",
       "3    1                   0                  1               0             -1   \n",
       "4    0                   1                  1               0             -1   \n",
       "\n",
       "   publicAssist_receipient  income  income_family  hydro_ever_general  \\\n",
       "0                        0       6              6                   0   \n",
       "1                        0       4              7                   0   \n",
       "2                        0       1              1                   1   \n",
       "3                        0       1              1                   0   \n",
       "4                        0       1              5                   0   \n",
       "\n",
       "   insurance_any  poverty_status  hard_occupation  age_group_12To17  \\\n",
       "0              1               0                0                 0   \n",
       "1              1               0                0                 0   \n",
       "2             -1               1                0                 0   \n",
       "3              1               1                0                 0   \n",
       "4              1               0                0                 0   \n",
       "\n",
       "   age_group_18To25  age_group_26To34  age_group_35Plus  education_college  \\\n",
       "0                 0                 1                 0                  0   \n",
       "1                 1                 0                 0                  0   \n",
       "2                 1                 0                 0                  1   \n",
       "3                 1                 0                 0                  1   \n",
       "4                 0                 0                 1                  0   \n",
       "\n",
       "   education_college_finished  education_elementary  education_highschool  \\\n",
       "0                           0                     0                     0   \n",
       "1                           1                     0                     0   \n",
       "2                           0                     0                     0   \n",
       "3                           0                     0                     0   \n",
       "4                           0                     0                     0   \n",
       "\n",
       "   education_highschool_finished  education_middle_school  industry_missing  \\\n",
       "0                              1                        0                 1   \n",
       "1                              0                        0                 1   \n",
       "2                              0                        0                 1   \n",
       "3                              0                        0                 1   \n",
       "4                              1                        0                 1   \n",
       "\n",
       "   marital_divored  marital_married  marital_never  marital_widowed  \\\n",
       "0                0                1              0                0   \n",
       "1                0                0              1                0   \n",
       "2                0                0              1                0   \n",
       "3                0                0              1                0   \n",
       "4                0                1              0                0   \n",
       "\n",
       "   insurance_medicare_missing  insurance_private_missing  \\\n",
       "0                           0                          0   \n",
       "1                           0                          0   \n",
       "2                           1                          1   \n",
       "3                           0                          0   \n",
       "4                           0                          0   \n",
       "\n",
       "   insurance_poor_missing  self_employed_missing  ssrr_receipient_missing  \\\n",
       "0                       0                      0                        0   \n",
       "1                       0                      0                        0   \n",
       "2                       1                      0                        0   \n",
       "3                       0                      0                        0   \n",
       "4                       0                      0                        0   \n",
       "\n",
       "   ssi_receipient_missing  publicAssist_receipient_missing  \\\n",
       "0                       0                                0   \n",
       "1                       0                                0   \n",
       "2                       0                                0   \n",
       "3                       0                                0   \n",
       "4                       0                                0   \n",
       "\n",
       "   insurance_any_missing  \n",
       "0                      0  \n",
       "1                      0  \n",
       "2                      1  \n",
       "3                      0  \n",
       "4                      0  "
      ]
     },
     "execution_count": 57,
     "metadata": {},
     "output_type": "execute_result"
    }
   ],
   "source": [
    "df0.head()"
   ]
  },
  {
   "cell_type": "code",
   "execution_count": 60,
   "metadata": {},
   "outputs": [],
   "source": [
    "df0.to_csv(cleaned+ '\\hydroUsers_ABT.csv', index=None)"
   ]
  }
 ],
 "metadata": {
  "interpreter": {
   "hash": "ebbaa21bb6e3ae14c441bead8233d334f9b1f6a5abe27edec91e52c0899b1d99"
  },
  "kernelspec": {
   "display_name": "Python 3.8.5 ('base')",
   "language": "python",
   "name": "python3"
  },
  "language_info": {
   "codemirror_mode": {
    "name": "ipython",
    "version": 3
   },
   "file_extension": ".py",
   "mimetype": "text/x-python",
   "name": "python",
   "nbconvert_exporter": "python",
   "pygments_lexer": "ipython3",
   "version": "3.9.12"
  },
  "orig_nbformat": 4
 },
 "nbformat": 4,
 "nbformat_minor": 2
}
